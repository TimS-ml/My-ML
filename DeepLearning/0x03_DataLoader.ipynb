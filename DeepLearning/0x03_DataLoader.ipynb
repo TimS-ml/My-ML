{
  "nbformat": 4,
  "nbformat_minor": 0,
  "metadata": {
    "kernelspec": {
      "display_name": "Python 3",
      "language": "python",
      "name": "python3"
    },
    "language_info": {
      "codemirror_mode": {
        "name": "ipython",
        "version": 3
      },
      "file_extension": ".py",
      "mimetype": "text/x-python",
      "name": "python",
      "nbconvert_exporter": "python",
      "pygments_lexer": "ipython3",
      "version": "3.7.6"
    },
    "colab": {
      "name": "0x03 DataLoader.ipynb",
      "provenance": [],
      "collapsed_sections": [],
      "toc_visible": true,
      "include_colab_link": true
    }
  },
  "cells": [
    {
      "cell_type": "markdown",
      "metadata": {
        "id": "view-in-github",
        "colab_type": "text"
      },
      "source": [
        "<a href=\"https://colab.research.google.com/github/TimS-ml/My-ML/blob/main/Intro/0x03_DataLoader.ipynb\" target=\"_parent\"><img src=\"https://colab.research.google.com/assets/colab-badge.svg\" alt=\"Open In Colab\"/></a>"
      ]
    },
    {
      "cell_type": "markdown",
      "metadata": {
        "toc-hr-collapsed": true,
        "id": "1k_JNswbNNsk"
      },
      "source": [
        "# DataLoader\n",
        "\n",
        "https://pytorch.org/docs/stable/data.html?highlight=dataloader#torch.utils.data.DataLoader\n",
        "\n",
        "https://pytorch.org/docs/stable/data.html?highlight=dataset#torch.utils.data.Dataset\n"
      ]
    },
    {
      "cell_type": "markdown",
      "metadata": {
        "id": "eizn2kH6NNsm"
      },
      "source": [
        "## go through dataset\n",
        "\n",
        "basically is a data viewer\n",
        "\n",
        "wrap in tensor in each epoach\n",
        "\n",
        "https://github.com/yunjey/pytorch-tutorial/blob/master/tutorials/01-basics/pytorch_basics/main.py\n",
        "http://pytorch.org/tutorials/beginner/data_loading_tutorial.html#dataset-class"
      ]
    },
    {
      "cell_type": "code",
      "metadata": {
        "id": "1_3v0lB8NNsn"
      },
      "source": [
        "from torch.utils.data import Dataset, DataLoader\n",
        "from torch import from_numpy, tensor\n",
        "import numpy as np\n",
        "import io, requests\n",
        "import gzip"
      ],
      "execution_count": 13,
      "outputs": []
    },
    {
      "cell_type": "code",
      "metadata": {
        "id": "EL5E2AXhc7g_"
      },
      "source": [
        "url = 'https://github.com/TimS-ml/DataMining/blob/master/z_Other/diabetes.csv.gz?raw=true'\n",
        "f = requests.get(url).content"
      ],
      "execution_count": 16,
      "outputs": []
    },
    {
      "cell_type": "code",
      "metadata": {
        "id": "HhsjNrsqNNst"
      },
      "source": [
        "class DiabetesDataset(Dataset):  # Dataset is from torch too\n",
        "    \"\"\" Diabetes dataset.\"\"\"\n",
        "\n",
        "    # Initialize your data, download, etc.\n",
        "    def __init__(self):\n",
        "        # xy = np.loadtxt('./data/diabetes.csv.gz',\n",
        "        #                 delimiter=',', dtype=np.float32)\n",
        "        xy = np.loadtxt(gzip.open(io.BytesIO(f), 'rt'), \n",
        "                        delimiter=',', dtype=np.float32)\n",
        "        self.len = xy.shape[0]\n",
        "        self.x_data = from_numpy(xy[:, 0:-1])\n",
        "        self.y_data = from_numpy(xy[:, [-1]])\n",
        "\n",
        "    def __getitem__(self, index):\n",
        "        return self.x_data[index], self.y_data[index]\n",
        "\n",
        "    def __len__(self):\n",
        "        return self.len"
      ],
      "execution_count": 17,
      "outputs": []
    },
    {
      "cell_type": "code",
      "metadata": {
        "id": "1mEIOjIoNNsy"
      },
      "source": [
        "dataset = DiabetesDataset()\n",
        "train_loader = DataLoader(dataset=dataset,\n",
        "                          batch_size=32,\n",
        "                          shuffle=True,\n",
        "                          num_workers=2)  # how many subprocesses to use for data loading"
      ],
      "execution_count": 18,
      "outputs": []
    },
    {
      "cell_type": "code",
      "metadata": {
        "id": "qxRL-xloNNs3",
        "colab": {
          "base_uri": "https://localhost:8080/"
        },
        "outputId": "2536ad96-fdc4-449b-c682-cbf3dff5a802"
      },
      "source": [
        "# nothing interesting, just go over the data 2 times\n",
        "for epoch in range(2):\n",
        "    for i, data in enumerate(train_loader, 0):\n",
        "        # get the inputs\n",
        "        inputs, labels = data\n",
        "        \n",
        "        # wrap them in Variable\n",
        "        inputs, labels = tensor(inputs), tensor(labels)\n",
        "        \n",
        "        # Run your training process\n",
        "        if i % 5 == 0:\n",
        "            print(f'Epoch: {i}')\n",
        "            # print(f'Inputs {inputs.data} | Labels {labels.data}')"
      ],
      "execution_count": 19,
      "outputs": [
        {
          "output_type": "stream",
          "text": [
            "Epoch: 0\n",
            "Epoch: 5\n",
            "Epoch: 10\n",
            "Epoch: 15\n",
            "Epoch: 20\n"
          ],
          "name": "stdout"
        },
        {
          "output_type": "stream",
          "text": [
            "/usr/local/lib/python3.6/dist-packages/ipykernel_launcher.py:8: UserWarning: To copy construct from a tensor, it is recommended to use sourceTensor.clone().detach() or sourceTensor.clone().detach().requires_grad_(True), rather than torch.tensor(sourceTensor).\n",
            "  \n"
          ],
          "name": "stderr"
        },
        {
          "output_type": "stream",
          "text": [
            "Epoch: 0\n",
            "Epoch: 5\n",
            "Epoch: 10\n",
            "Epoch: 15\n",
            "Epoch: 20\n"
          ],
          "name": "stdout"
        }
      ]
    },
    {
      "cell_type": "markdown",
      "metadata": {
        "id": "V5wBz8ICNNs-"
      },
      "source": [
        "## regression\n",
        "\n",
        "https://pytorch.org/docs/stable/torch.html?highlight=from_numpy#torch.from_numpy\n",
        "\n",
        "https://pytorch.org/docs/stable/optim.html?highlight=optim%20sgd#torch.optim.SGD\n",
        "\n",
        "https://pytorch.org/docs/stable/nn.html?highlight=nn%20bceloss#torch.nn.BCELoss\n"
      ]
    },
    {
      "cell_type": "code",
      "metadata": {
        "id": "X42WIHlZNNs_"
      },
      "source": [
        "# References\n",
        "# https://github.com/yunjey/pytorch-tutorial/blob/master/tutorials/01-basics/pytorch_basics/main.py\n",
        "# http://pytorch.org/tutorials/beginner/data_loading_tutorial.html#dataset-class\n",
        "from torch import nn, optim"
      ],
      "execution_count": 20,
      "outputs": []
    },
    {
      "cell_type": "code",
      "metadata": {
        "id": "uSMwrmn4NNtE"
      },
      "source": [
        "class Model(nn.Module):\n",
        "\n",
        "    def __init__(self):\n",
        "        \"\"\"\n",
        "        In the constructor we instantiate two nn.Linear module\n",
        "        \"\"\"\n",
        "        super(Model, self).__init__()\n",
        "        self.l1 = nn.Linear(8, 6)\n",
        "        self.l2 = nn.Linear(6, 4)\n",
        "        self.l3 = nn.Linear(4, 1)\n",
        "\n",
        "        self.sigmoid = nn.Sigmoid()\n",
        "\n",
        "    def forward(self, x):\n",
        "        \"\"\"\n",
        "        In the forward function we accept a Variable of input data and we must return\n",
        "        a Variable of output data. We can use Modules defined in the constructor as\n",
        "        well as arbitrary operators on Variables.\n",
        "        \"\"\"\n",
        "        out1 = self.sigmoid(self.l1(x))\n",
        "        out2 = self.sigmoid(self.l2(out1))\n",
        "        y_pred = self.sigmoid(self.l3(out2))\n",
        "        return y_pred"
      ],
      "execution_count": 21,
      "outputs": []
    },
    {
      "cell_type": "code",
      "metadata": {
        "id": "qw90UlySNNtJ"
      },
      "source": [
        "# our model\n",
        "model = Model()"
      ],
      "execution_count": 22,
      "outputs": []
    },
    {
      "cell_type": "code",
      "metadata": {
        "id": "pLgW1ZUTNNtO",
        "colab": {
          "base_uri": "https://localhost:8080/"
        },
        "outputId": "6daf7d1a-d9d2-4244-8032-a8f3be2de4d6"
      },
      "source": [
        "# Construct our loss function and an Optimizer. The call to model.parameters()\n",
        "# in the SGD constructor will contain the learnable parameters of the two\n",
        "# nn.Linear modules which are members of the model.\n",
        "criterion = nn.BCELoss(reduction='sum')\n",
        "optimizer = optim.SGD(model.parameters(), lr=0.1)\n",
        "\n",
        "# Training loop\n",
        "for epoch in range(2):\n",
        "    for i, data in enumerate(train_loader, 0):\n",
        "        # get the inputs\n",
        "        inputs, labels = data\n",
        "\n",
        "        # Forward pass: Compute predicted y by passing x to the model\n",
        "        y_pred = model(inputs)\n",
        "\n",
        "        # Compute and print loss\n",
        "        loss = criterion(y_pred, labels)\n",
        "        if (i+1) % 6 == 0:\n",
        "            print(f'Epoch {epoch + 1} | Batch: {i+1} | Loss: {loss.item():.4f}')\n",
        "\n",
        "        # Zero gradients, perform a backward pass, and update the weights.\n",
        "        optimizer.zero_grad()\n",
        "        loss.backward()\n",
        "        optimizer.step()"
      ],
      "execution_count": 23,
      "outputs": [
        {
          "output_type": "stream",
          "text": [
            "Epoch 1 | Batch: 6 | Loss: 24.1880\n",
            "Epoch 1 | Batch: 12 | Loss: 19.9337\n",
            "Epoch 1 | Batch: 18 | Loss: 25.5831\n",
            "Epoch 1 | Batch: 24 | Loss: 14.7560\n",
            "Epoch 2 | Batch: 6 | Loss: 20.9187\n",
            "Epoch 2 | Batch: 12 | Loss: 27.4578\n",
            "Epoch 2 | Batch: 18 | Loss: 22.2178\n",
            "Epoch 2 | Batch: 24 | Loss: 19.4152\n"
          ],
          "name": "stdout"
        }
      ]
    }
  ]
}