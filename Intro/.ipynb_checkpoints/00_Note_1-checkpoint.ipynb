{
 "cells": [
  {
   "cell_type": "markdown",
   "metadata": {},
   "source": [
    "# Linear Model (Basic)"
   ]
  },
  {
   "cell_type": "markdown",
   "metadata": {},
   "source": [
    "https://docs.python.org/3/library/pdb.html"
   ]
  },
  {
   "cell_type": "code",
   "execution_count": 1,
   "metadata": {},
   "outputs": [],
   "source": [
    "import torch\n",
    "import numpy as np\n",
    "import pdb  # python debuger"
   ]
  },
  {
   "cell_type": "code",
   "execution_count": 2,
   "metadata": {},
   "outputs": [],
   "source": [
    "x_data = [1.0, 2.0, 3.0]\n",
    "y_data = [2.0, 4.0, 6.0]"
   ]
  },
  {
   "cell_type": "code",
   "execution_count": 3,
   "metadata": {},
   "outputs": [],
   "source": [
    "# y = x * w + b, ignore b to simplify mode\n",
    "# our model for the forward pass\n",
    "def forward(x):\n",
    "    return x * w\n",
    "\n",
    "\n",
    "# Loss function\n",
    "def loss(x, y):\n",
    "    y_pred = forward(x)\n",
    "    return (y_pred - y) ** 2"
   ]
  },
  {
   "cell_type": "code",
   "execution_count": 4,
   "metadata": {},
   "outputs": [],
   "source": [
    "# compute gradient\n",
    "def gradient(x, y):  # d_loss/d_w\n",
    "    return 2 * x * (x * w - y)"
   ]
  },
  {
   "cell_type": "markdown",
   "metadata": {},
   "source": [
    "## loss graph"
   ]
  },
  {
   "cell_type": "code",
   "execution_count": null,
   "metadata": {},
   "outputs": [],
   "source": [
    "# List of weights/Mean square Error (Mse) for each input\n",
    "w_list = []\n",
    "mse_list = []\n",
    "\n",
    "for w in np.arange(0.0, 4.1, 0.1):  # w is random guess to predit y_pred\n",
    "    # Print the weights and initialize the lost\n",
    "    print(\"w =\", w)\n",
    "    l_sum = 0\n",
    "\n",
    "    for x_val, y_val in zip(x_data, y_data):\n",
    "        # For each input and output, calculate y_hat\n",
    "        # Compute the total loss and add to the total error\n",
    "        y_pred_val = forward(x_val)\n",
    "        l = loss(x_val, y_val)\n",
    "        l_sum += l\n",
    "        print(\"\\t\", x_val, y_val, y_pred_val, l)\n",
    "    # Now compute the Mean squared error (mse) of each\n",
    "    # Aggregate the weight/mse from this run\n",
    "    print(\"MSE =\", l_sum / 3)\n",
    "    w_list.append(w)\n",
    "    mse_list.append(l_sum / 3)"
   ]
  },
  {
   "cell_type": "code",
   "execution_count": null,
   "metadata": {},
   "outputs": [],
   "source": [
    "import matplotlib.pyplot as plt\n",
    "\n",
    "# Plot loss graph\n",
    "plt.plot(w_list, mse_list)\n",
    "plt.ylabel('Loss')\n",
    "plt.xlabel('w')\n",
    "plt.show()"
   ]
  },
  {
   "cell_type": "markdown",
   "metadata": {},
   "source": [
    "## auto gradient"
   ]
  },
  {
   "cell_type": "code",
   "execution_count": 6,
   "metadata": {},
   "outputs": [
    {
     "name": "stdout",
     "output_type": "stream",
     "text": [
      "Prediction (before training) 4 4.0\n",
      "\tgrad:  1.0 2.0 -4.0\n",
      "\tgrad:  2.0 4.0 -15.28217601776123\n",
      "\tgrad:  3.0 6.0 -24.784862518310547\n",
      "Epoch: 0 | Loss: 2.9981918334960938\n",
      "\tgrad:  1.0 2.0 0.4352611303329468\n",
      "\tgrad:  2.0 4.0 1.4480102062225342\n",
      "\tgrad:  3.0 6.0 1.1067644357681274\n",
      "Epoch: 1 | Loss: 0.004207730293273926\n",
      "\tgrad:  1.0 2.0 -0.054894957691431046\n",
      "\tgrad:  2.0 4.0 -0.18468163907527924\n",
      "\tgrad:  3.0 6.0 -0.15071865916252136\n",
      "Epoch: 2 | Loss: 7.899241609266028e-05\n",
      "\tgrad:  1.0 2.0 0.007354147266596556\n",
      "\tgrad:  2.0 4.0 0.024704117327928543\n",
      "\tgrad:  3.0 6.0 0.019997775554656982\n",
      "Epoch: 3 | Loss: 1.3883075098419795e-06\n",
      "\tgrad:  1.0 2.0 -0.00097911327611655\n",
      "\tgrad:  2.0 4.0 -0.0032907063141465187\n",
      "\tgrad:  3.0 6.0 -0.002662297338247299\n",
      "Epoch: 4 | Loss: 2.461115400365088e-08\n",
      "\tgrad:  1.0 2.0 0.00012947585491929203\n",
      "\tgrad:  2.0 4.0 0.000431585795013234\n",
      "\tgrad:  3.0 6.0 0.00035605719313025475\n",
      "Epoch: 5 | Loss: 4.4019543565809727e-10\n",
      "\tgrad:  1.0 2.0 -1.753307515173219e-05\n",
      "\tgrad:  2.0 4.0 -6.204011879162863e-05\n",
      "\tgrad:  3.0 6.0 -5.6645349104655907e-05\n",
      "Epoch: 6 | Loss: 1.1141310096718371e-11\n",
      "\tgrad:  1.0 2.0 4.046098183607683e-06\n",
      "\tgrad:  2.0 4.0 1.618439273443073e-05\n",
      "\tgrad:  3.0 6.0 1.6184390915441327e-05\n",
      "Epoch: 7 | Loss: 9.094947017729282e-13\n",
      "\tgrad:  1.0 2.0 -6.743495646333031e-07\n",
      "\tgrad:  2.0 4.0 -2.6973982585332124e-06\n",
      "\tgrad:  3.0 6.0 -8.092194548225962e-06\n",
      "Epoch: 8 | Loss: 2.2737367544323206e-13\n",
      "\tgrad:  1.0 2.0 1.348699242953444e-06\n",
      "\tgrad:  2.0 4.0 5.394796971813776e-06\n",
      "\tgrad:  3.0 6.0 1.6184390915441327e-05\n",
      "Epoch: 9 | Loss: 9.094947017729282e-13\n",
      "Prediction (after training) 4 5.656854152679443\n"
     ]
    }
   ],
   "source": [
    "# Before training\n",
    "w = torch.tensor([1.0], requires_grad=True)  # this time we use tensor\n",
    "print(\"Prediction (before training)\",  4, forward(4).item())\n",
    "\n",
    "# Training loop\n",
    "for epoch in range(10):\n",
    "    for x_val, y_val in zip(x_data, y_data):\n",
    "        y_pred = forward(x_val)  # 1) Forward pass\n",
    "        l = loss(y_pred, y_val)  # 2) Compute loss\n",
    "        l.backward()  # 3) Back propagation to update weights\n",
    "        print(\"\\tgrad: \", x_val, y_val, w.grad.item())\n",
    "        w.data = w.data - 0.01 * w.grad.item()  # 0.01 is learning rate, [[update w !!!]]\n",
    "\n",
    "        # Manually zero the gradients after updating weights\n",
    "        w.grad.data.zero_()\n",
    "\n",
    "    print(f\"Epoch: {epoch} | Loss: {l.item()}\")\n",
    "\n",
    "# After training\n",
    "print(\"Prediction (after training)\",  4, forward(4).item())"
   ]
  },
  {
   "cell_type": "markdown",
   "metadata": {},
   "source": [
    "# Linear Model (Torch)\n",
    "\n",
    "https://pytorch.org/docs/stable/optim.html#torch.optim.Optimizer.zero_grad\n",
    "\n",
    "https://pytorch.org/tutorials/beginner/nn_tutorial.html?highlight=zero_grad\n",
    "\n",
    "https://pytorch.org/docs/stable/optim.html#torch.optim.Optimizer.step\n",
    "\n",
    "https://stackoverflow.com/questions/48001598/why-do-we-need-to-call-zero-grad-in-pytorch\n",
    "\n",
    "\n",
    "We need to set the gradients to zero before starting to do backpropragation because PyTorch accumulates the gradients on subsequent backward passes. This is convenient while training RNNs\n"
   ]
  },
  {
   "cell_type": "code",
   "execution_count": 7,
   "metadata": {},
   "outputs": [],
   "source": [
    "from torch import nn\n",
    "import torch\n",
    "from torch import tensor"
   ]
  },
  {
   "cell_type": "code",
   "execution_count": 8,
   "metadata": {},
   "outputs": [],
   "source": [
    "x_data = tensor([[1.0], [2.0], [3.0]])\n",
    "y_data = tensor([[2.0], [4.0], [6.0]])"
   ]
  },
  {
   "cell_type": "code",
   "execution_count": 9,
   "metadata": {},
   "outputs": [],
   "source": [
    "class Model(nn.Module):\n",
    "    def __init__(self):\n",
    "        \"\"\"\n",
    "        In the constructor we instantiate two nn.Linear module\n",
    "        \"\"\"\n",
    "        super(Model, self).__init__()\n",
    "        self.linear = torch.nn.Linear(1, 1)  # One in and one out\n",
    "\n",
    "    def forward(self, x):\n",
    "        \"\"\"\n",
    "        In the forward function we accept a Variable of input data and we must return\n",
    "        a Variable of output data. We can use Modules defined in the constructor as\n",
    "        well as arbitrary operators on Variables.\n",
    "        \"\"\"\n",
    "        y_pred = self.linear(x)\n",
    "        return y_pred"
   ]
  },
  {
   "cell_type": "code",
   "execution_count": 14,
   "metadata": {},
   "outputs": [
    {
     "name": "stdout",
     "output_type": "stream",
     "text": [
      "Epoch: 0 | Loss: 58.63104248046875 \n",
      "Epoch: 50 | Loss: 0.40764355659484863 \n",
      "Epoch: 100 | Loss: 0.1976705640554428 \n",
      "Epoch: 150 | Loss: 0.09585221856832504 \n",
      "Epoch: 200 | Loss: 0.046479612588882446 \n",
      "Epoch: 250 | Loss: 0.022538447752594948 \n",
      "Epoch: 300 | Loss: 0.010929154232144356 \n",
      "Epoch: 350 | Loss: 0.0052996305748820305 \n",
      "Epoch: 400 | Loss: 0.002569872885942459 \n",
      "Epoch: 450 | Loss: 0.0012461405713111162 \n"
     ]
    }
   ],
   "source": [
    "# our model\n",
    "model = Model()\n",
    "\n",
    "# Construct our loss function and an Optimizer. The call to model.parameters()\n",
    "# in the SGD constructor will contain the learnable parameters of the two\n",
    "# nn.Linear modules which are members of the model.\n",
    "criterion = torch.nn.MSELoss(reduction='sum')\n",
    "optimizer = torch.optim.SGD(model.parameters(), lr=0.01)  # learn rate\n",
    "\n",
    "# Training loop (forward + backward)\n",
    "for epoch in range(500):\n",
    "    # 1) Forward pass: Compute predicted y by passing x to the model\n",
    "    y_pred = model(x_data)\n",
    "    # print('Data: {}, Predict: {}'.format(y_data, y_pred))\n",
    "    \n",
    "    # 2) Compute and print loss\n",
    "    loss = criterion(y_pred, y_data)\n",
    "    if epoch % 50 == 0:\n",
    "        print(f'Epoch: {epoch} | Loss: {loss.item()} ')\n",
    "\n",
    "    # Zero gradients, perform a [[backward]] pass, and update the weights.\n",
    "    optimizer.zero_grad()\n",
    "    loss.backward()\n",
    "    optimizer.step()"
   ]
  },
  {
   "cell_type": "code",
   "execution_count": 12,
   "metadata": {},
   "outputs": [
    {
     "name": "stdout",
     "output_type": "stream",
     "text": [
      "Prediction (after training) 4 7.982583999633789\n"
     ]
    }
   ],
   "source": [
    "# After training\n",
    "hour_var = tensor([[4.0]])  # create var\n",
    "y_pred = model(hour_var)  # forward\n",
    "print(\"Prediction (after training)\",  4, y_pred.data[0][0].item())"
   ]
  },
  {
   "cell_type": "markdown",
   "metadata": {},
   "source": [
    "# Logistic Regression"
   ]
  },
  {
   "cell_type": "markdown",
   "metadata": {},
   "source": [
    "## simple input"
   ]
  },
  {
   "cell_type": "code",
   "execution_count": 1,
   "metadata": {},
   "outputs": [],
   "source": [
    "from torch import tensor\n",
    "from torch import nn\n",
    "from torch import sigmoid\n",
    "import torch.nn.functional as F\n",
    "import torch.optim as optim"
   ]
  },
  {
   "cell_type": "code",
   "execution_count": 2,
   "metadata": {},
   "outputs": [],
   "source": [
    "# Training data and ground truth\n",
    "x_data = tensor([[1.0], [2.0], [3.0], [4.0]])\n",
    "y_data = tensor([[0.], [0.], [1.], [1.]])"
   ]
  },
  {
   "cell_type": "code",
   "execution_count": 3,
   "metadata": {},
   "outputs": [],
   "source": [
    "class Model(nn.Module):\n",
    "    def __init__(self):\n",
    "        \"\"\"\n",
    "        In the constructor we instantiate nn.Linear module\n",
    "        \"\"\"\n",
    "        super(Model, self).__init__()\n",
    "        self.linear = nn.Linear(1, 1)  # One in and one out\n",
    "\n",
    "    def forward(self, x):\n",
    "        \"\"\"\n",
    "        In the forward function we accept a Variable of input data and we must return\n",
    "        a Variable of output data.\n",
    "        \"\"\"\n",
    "        y_pred = sigmoid(self.linear(x))\n",
    "        return y_pred"
   ]
  },
  {
   "cell_type": "code",
   "execution_count": 4,
   "metadata": {},
   "outputs": [
    {
     "name": "stdout",
     "output_type": "stream",
     "text": [
      "Epoch 1/1000 | Loss: 1.3503\n",
      "Epoch 101/1000 | Loss: 0.7784\n",
      "Epoch 201/1000 | Loss: 0.7337\n",
      "Epoch 301/1000 | Loss: 0.7017\n",
      "Epoch 401/1000 | Loss: 0.6720\n",
      "Epoch 501/1000 | Loss: 0.6443\n",
      "Epoch 601/1000 | Loss: 0.6184\n",
      "Epoch 701/1000 | Loss: 0.5943\n",
      "Epoch 801/1000 | Loss: 0.5718\n",
      "Epoch 901/1000 | Loss: 0.5508\n"
     ]
    }
   ],
   "source": [
    "# our model\n",
    "model = Model()\n",
    "\n",
    "# Construct our loss function and an Optimizer. The call to model.parameters()\n",
    "# in the SGD constructor will contain the learnable parameters of the two\n",
    "# nn.Linear modules which are members of the model.\n",
    "criterion = nn.BCELoss(reduction='mean')\n",
    "optimizer = optim.SGD(model.parameters(), lr=0.01)\n",
    "\n",
    "# Training loop\n",
    "for epoch in range(1000):\n",
    "    # Forward pass: Compute predicted y by passing x to the model\n",
    "    y_pred = model(x_data)\n",
    "\n",
    "    # Compute and print loss\n",
    "    loss = criterion(y_pred, y_data)\n",
    "    if epoch % 100 == 0:\n",
    "        print(f'Epoch {epoch + 1}/1000 | Loss: {loss.item():.4f}')\n",
    "\n",
    "    # Zero gradients, perform a backward pass, and update the weights.\n",
    "    optimizer.zero_grad()\n",
    "    loss.backward()\n",
    "    optimizer.step()"
   ]
  },
  {
   "cell_type": "code",
   "execution_count": 5,
   "metadata": {},
   "outputs": [
    {
     "name": "stdout",
     "output_type": "stream",
     "text": [
      "\n",
      "Let's predict the hours need to score above 50%\n",
      "==================================================\n",
      "Prediction after 1 hour of training: 0.4673 | Above 50%: False\n",
      "Prediction after 7 hours of training: 0.9340 | Above 50%: True\n"
     ]
    }
   ],
   "source": [
    "# After training\n",
    "print(f'\\nLet\\'s predict the hours need to score above 50%\\n{\"=\" * 50}')\n",
    "hour_var = model(tensor([[1.0]]))\n",
    "print(\n",
    "    f'Prediction after 1 hour of training: {hour_var.item():.4f} | Above 50%: {hour_var.item() > 0.5}')\n",
    "hour_var = model(tensor([[7.0]]))\n",
    "print(\n",
    "    f'Prediction after 7 hours of training: {hour_var.item():.4f} | Above 50%: { hour_var.item() > 0.5}')"
   ]
  },
  {
   "cell_type": "markdown",
   "metadata": {},
   "source": [
    "## multiple inputs\n",
    "\n",
    "https://pytorch.org/docs/stable/nn.html?highlight=bceloss#torch.nn.BCELoss\n",
    "\n",
    "https://en.wikipedia.org/wiki/Cross_entropy"
   ]
  },
  {
   "cell_type": "code",
   "execution_count": 1,
   "metadata": {},
   "outputs": [],
   "source": [
    "from torch import nn, optim, from_numpy\n",
    "import numpy as np"
   ]
  },
  {
   "cell_type": "code",
   "execution_count": 2,
   "metadata": {},
   "outputs": [
    {
     "name": "stdout",
     "output_type": "stream",
     "text": [
      "X's shape: torch.Size([759, 8]) | Y's shape: torch.Size([759, 1])\n"
     ]
    }
   ],
   "source": [
    "xy = np.loadtxt('./data/diabetes.csv.gz', delimiter=',', dtype=np.float32)\n",
    "x_data = from_numpy(xy[:, 0:-1])\n",
    "y_data = from_numpy(xy[:, [-1]])\n",
    "print(f'X\\'s shape: {x_data.shape} | Y\\'s shape: {y_data.shape}')"
   ]
  },
  {
   "cell_type": "code",
   "execution_count": 3,
   "metadata": {},
   "outputs": [],
   "source": [
    "class Model(nn.Module):\n",
    "    def __init__(self):\n",
    "        \"\"\"\n",
    "        In the constructor we instantiate two nn.Linear module\n",
    "        \"\"\"\n",
    "        super(Model, self).__init__()\n",
    "        self.l1 = nn.Linear(8, 6)\n",
    "        self.l2 = nn.Linear(6, 4)\n",
    "        self.l3 = nn.Linear(4, 1)\n",
    "\n",
    "        self.sigmoid = nn.Sigmoid()\n",
    "\n",
    "    def forward(self, x):\n",
    "        \"\"\"\n",
    "        In the forward function we accept a Variable of input data and we must return\n",
    "        a Variable of output data. We can use Modules defined in the constructor as\n",
    "        well as arbitrary operators on Variables.\n",
    "        \"\"\"\n",
    "        out1 = self.sigmoid(self.l1(x))\n",
    "        out2 = self.sigmoid(self.l2(out1))\n",
    "        y_pred = self.sigmoid(self.l3(out2))\n",
    "        return y_pred"
   ]
  },
  {
   "cell_type": "code",
   "execution_count": 5,
   "metadata": {},
   "outputs": [],
   "source": [
    "# our model\n",
    "model = Model()\n",
    "\n",
    "\n",
    "# Construct our loss function and an Optimizer. The call to model.parameters()\n",
    "# in the SGD constructor will contain the learnable parameters of the two\n",
    "# nn.Linear modules which are members of the model.\n",
    "criterion = nn.BCELoss(reduction='mean')  # binary cross entropy\n",
    "optimizer = optim.SGD(model.parameters(), lr=0.1)"
   ]
  },
  {
   "cell_type": "code",
   "execution_count": 6,
   "metadata": {},
   "outputs": [
    {
     "name": "stdout",
     "output_type": "stream",
     "text": [
      "Epoch: 1/100 | Loss: 0.6840\n",
      "Epoch: 11/100 | Loss: 0.6576\n",
      "Epoch: 21/100 | Loss: 0.6493\n",
      "Epoch: 31/100 | Loss: 0.6466\n",
      "Epoch: 41/100 | Loss: 0.6456\n",
      "Epoch: 51/100 | Loss: 0.6453\n",
      "Epoch: 61/100 | Loss: 0.6452\n",
      "Epoch: 71/100 | Loss: 0.6452\n",
      "Epoch: 81/100 | Loss: 0.6451\n",
      "Epoch: 91/100 | Loss: 0.6451\n"
     ]
    }
   ],
   "source": [
    "# Training loop\n",
    "for epoch in range(100):\n",
    "    # Forward pass: Compute predicted y by passing x to the model\n",
    "    y_pred = model(x_data)\n",
    "\n",
    "    # Compute and print loss\n",
    "    loss = criterion(y_pred, y_data)\n",
    "    if epoch % 10 == 0:\n",
    "        print(f'Epoch: {epoch + 1}/100 | Loss: {loss.item():.4f}')\n",
    "\n",
    "    # Zero gradients, perform a backward pass, and update the weights.\n",
    "    optimizer.zero_grad()\n",
    "    loss.backward()\n",
    "    optimizer.step()\n"
   ]
  },
  {
   "cell_type": "code",
   "execution_count": 14,
   "metadata": {},
   "outputs": [
    {
     "name": "stdout",
     "output_type": "stream",
     "text": [
      "tensor(0.0010, grad_fn=<MeanBackward0>)\n"
     ]
    }
   ],
   "source": [
    "# Since I don't have additional data to text...\n",
    "var = model(x_data)\n",
    "print((y_data - var).mean())"
   ]
  }
 ],
 "metadata": {
  "kernelspec": {
   "display_name": "Python 3",
   "language": "python",
   "name": "python3"
  },
  "language_info": {
   "codemirror_mode": {
    "name": "ipython",
    "version": 3
   },
   "file_extension": ".py",
   "mimetype": "text/x-python",
   "name": "python",
   "nbconvert_exporter": "python",
   "pygments_lexer": "ipython3",
   "version": "3.8.1"
  }
 },
 "nbformat": 4,
 "nbformat_minor": 4
}
