{
 "cells": [
  {
   "cell_type": "markdown",
   "id": "endless-broad",
   "metadata": {},
   "source": [
    "# QuickTorch Playground\n",
    "\n",
    "[Some important Pytorch tasks - A concise summary from a vision researcher](https://spandan-madan.github.io/A-Collection-of-important-tasks-in-pytorch/)\n",
    "\n",
    "[Pytorch common code collection](https://mp.weixin.qq.com/s/CKbIcb-iIKKNVgh2UApmIg)"
   ]
  },
  {
   "cell_type": "code",
   "execution_count": 1,
   "id": "western-hypothesis",
   "metadata": {},
   "outputs": [],
   "source": [
    "import numpy as np\n",
    "import torch\n",
    "import torch.nn as nn"
   ]
  },
  {
   "cell_type": "code",
   "execution_count": 33,
   "id": "cross-group",
   "metadata": {},
   "outputs": [],
   "source": [
    "import matplotlib.pyplot as plt"
   ]
  },
  {
   "cell_type": "markdown",
   "id": "e18184b1-10fe-4c4f-b739-df87b99fb963",
   "metadata": {},
   "source": [
    "# Common Code Blocks"
   ]
  },
  {
   "cell_type": "code",
   "execution_count": 1,
   "id": "060f6397-926d-424c-9b56-7dad634be15f",
   "metadata": {
    "lines_to_next_cell": 2
   },
   "outputs": [],
   "source": [
    "from __future__ import print_function\n",
    "import numpy as np\n",
    "import torch\n",
    "import torch.nn as nn\n",
    "import torch.nn.functional as F"
   ]
  },
  {
   "cell_type": "code",
   "execution_count": 3,
   "id": "b2ccfb9e-c09d-4b8d-9806-526ca1c9a18c",
   "metadata": {
    "lines_to_next_cell": 2
   },
   "outputs": [
    {
     "name": "stdout",
     "output_type": "stream",
     "text": [
      "1.8.0\n"
     ]
    }
   ],
   "source": [
    "print(torch.__version__)               # PyTorch version\n",
    "\n",
    "if torch.cuda.is_available():\n",
    "    print(torch.version.cuda)              # Corresponding CUDA version\n",
    "    print(torch.backends.cudnn.version())  # Corresponding cuDNN version\n",
    "    print(torch.cuda.get_device_name(0))   # GPU type"
   ]
  },
  {
   "cell_type": "code",
   "execution_count": null,
   "id": "f6d4b9dd-2fb6-4492-ac54-da8361894061",
   "metadata": {},
   "outputs": [],
   "source": [
    "# reproduce\n",
    "np.random.seed(0)\n",
    "torch.manual_seed(0)\n",
    "torch.cuda.manual_seed_all(0)\n",
    "torch.backends.cudnn.deterministic = True\n",
    "torch.backends.cudnn.benchmark = False"
   ]
  },
  {
   "cell_type": "code",
   "execution_count": null,
   "id": "65209b59-2639-4cc8-86e7-201ff2da9567",
   "metadata": {},
   "outputs": [],
   "source": [
    "# single card\n",
    "device = torch.device('cuda'if torch.cuda.is_available() else'cpu')\n",
    "\n",
    "# multiple cards\n",
    "import os\n",
    "os.environ['CUDA_VISIBLE_DEVICES'] = '0,1'"
   ]
  },
  {
   "cell_type": "code",
   "execution_count": null,
   "id": "369fc7ee-5733-4dd5-985a-4d7a6d6c3f64",
   "metadata": {},
   "outputs": [],
   "source": [
    "# clear cache\n",
    "if torch.cuda.is_available():\n",
    "    torch.cuda.empty_cache()"
   ]
  },
  {
   "cell_type": "markdown",
   "id": "f9a3c418-9f61-459d-82fa-085e7053ae71",
   "metadata": {},
   "source": [
    "## Tensor related"
   ]
  },
  {
   "cell_type": "code",
   "execution_count": 2,
   "id": "3b4f67a4-8ef2-41a3-8e4b-101d8048da5c",
   "metadata": {},
   "outputs": [
    {
     "name": "stdout",
     "output_type": "stream",
     "text": [
      "torch.FloatTensor\n",
      "torch.Size([3, 4, 5])\n",
      "3\n"
     ]
    }
   ],
   "source": [
    "tensor = torch.randn(3,4,5)\n",
    "\n",
    "print(tensor.type())\n",
    "print(tensor.size())\n",
    "print(tensor.dim())"
   ]
  },
  {
   "cell_type": "code",
   "execution_count": null,
   "id": "18094c14-2a91-4b5c-ab36-817092d79db3",
   "metadata": {},
   "outputs": [],
   "source": [
    "# old fashion\n",
    "# Tensor[N, C, H, W]\n",
    "images = torch.randn(32, 3, 56, 56)\n",
    "images.sum(dim=1)\n",
    "images.select(dim=1, index=0)"
   ]
  },
  {
   "cell_type": "code",
   "execution_count": null,
   "id": "d87eeb19-0b5e-4ca2-9f59-3e5a3aea4ad3",
   "metadata": {},
   "outputs": [],
   "source": [
    "# new way\n",
    "NCHW = ['N', 'C', 'H', 'W']\n",
    "images = torch.randn(32, 3, 56, 56, names=NCHW)\n",
    "images.sum('C')\n",
    "images.select('C', index=0)\n",
    "\n",
    "# new way 2\n",
    "tensor = torch.rand(3,4,1,2,names=('C', 'N', 'H', 'W'))\n",
    "\n",
    "# use align_to to quick reshape\n",
    "tensor = tensor.align_to('N', 'C', 'H', 'W')"
   ]
  },
  {
   "cell_type": "markdown",
   "id": "25bb3c0c-4a7d-4db7-97f3-2be16d5a0f87",
   "metadata": {},
   "source": [
    "## Transform"
   ]
  },
  {
   "cell_type": "code",
   "execution_count": null,
   "id": "a961e464-70ed-41dd-bb91-f4743a42eae3",
   "metadata": {},
   "outputs": [],
   "source": [
    "# in pytorch FloatTensor is way faster than DoubleTensor\n",
    "torch.set_default_tensor_type(torch.FloatTensor)\n",
    "\n",
    "tensor = tensor.cuda()\n",
    "tensor = tensor.cpu()\n",
    "tensor = tensor.float()\n",
    "tensor = tensor.long()\n",
    "\n",
    "ndarray = tensor.cpu().numpy()\n",
    "tensor = torch.from_numpy(ndarray).float\n",
    "\n",
    "# If ndarray has negative stride\n",
    "# x = np.random.random(size=(32,32,7))\n",
    "# torch.from_numpy(np.flip(x, axis=0))\n",
    "# it's like something contiguous in tensor. the data is stored orderly.\n",
    "# something like image = image[..., ::-1]\n",
    "# another way to fix: image = image[..., ::-1] - np.zeros_like(image)\n",
    "tensor = torch.from_numpy(ndarray.copy()).float()"
   ]
  },
  {
   "cell_type": "code",
   "execution_count": null,
   "id": "2da01ea8-afc3-4b54-bf0a-627d47e3e04d",
   "metadata": {},
   "outputs": [],
   "source": [
    "# torch and PIL.Image\n",
    "\n",
    "# pytorch中的张量默认采用[N, C, H, W]的顺序\n",
    "# 并且数据范围在[0,1], 需要进行转置和规范化\n",
    "\n",
    "# torch.Tensor -> PIL.Image\n",
    "image = PIL.Image.fromarray(\n",
    "    torch.clamp(\n",
    "        tensor*255, min=0, max=255).byte().permute(1,2,0).cpu().numpy())\n",
    "image = torchvision.transforms.functional.to_pil_image(tensor)  # Equivalently way\n",
    "\n",
    "# PIL.Image -> torch.Tensor\n",
    "path = r'./figure.jpg'\n",
    "tensor = torch.from_numpy(\n",
    "    np.asarray(PIL.Image.open(path))).permute(2,0,1).float() / 255\n",
    "tensor = torchvision.transforms.functional.to_tensor(PIL.Image.open(path)) # Equivalently way"
   ]
  },
  {
   "cell_type": "code",
   "execution_count": null,
   "id": "065da9de-2403-434f-8609-13ef4a692ce5",
   "metadata": {},
   "outputs": [],
   "source": [
    "# numpy and PIL.Image\n",
    "\n",
    "image = PIL.Image.fromarray(ndarray.astype(np.uint8))\n",
    "\n",
    "ndarray = np.asarray(PIL.Image.open(path))"
   ]
  },
  {
   "cell_type": "code",
   "execution_count": null,
   "id": "bd65387d-7861-4b19-9b31-a8e29eb90197",
   "metadata": {},
   "outputs": [],
   "source": [
    "# 从只包含一个元素的张量中提取值\n",
    "\n",
    "value = torch.rand(1).item()"
   ]
  },
  {
   "cell_type": "markdown",
   "id": "24dfa960-3772-4a67-8a31-09cefc6e064c",
   "metadata": {},
   "source": [
    "## re-shape, multiplication etc."
   ]
  },
  {
   "cell_type": "code",
   "execution_count": null,
   "id": "fc60a5e9-6757-49a0-9371-9aeea46cd1bb",
   "metadata": {},
   "outputs": [],
   "source": [
    "# 在将卷积层输入全连接层的情况下通常需要对张量做形变处理\n",
    "# 相比torch.view, torch.reshape可以自动处理输入张量不连续的情况\n",
    "tensor = torch.rand(2, 3, 4)\n",
    "shape = (6, 4)\n",
    "tensor = torch.reshape(tensor, shape)\n",
    "\n",
    "\n",
    "# 打乱顺序\n",
    "tensor = tensor[torch.randperm(tensor.size(0))]  # 打乱第一个维度\n",
    "\n",
    "\n",
    "# 水平翻转\n",
    "# pytorch不支持tensor[::-1]这样的负步长操作，水平翻转可以通过张量索引实现\n",
    "# 假设张量的维度为[N, D, H, W].\n",
    "tensor = tensor[:,:,:,torch.arange(tensor.size(3) - 1, -1, -1).long()]\n",
    "\n",
    "\n",
    "# 复制张量\n",
    "# Operation                |  New/Shared memory | Still in computation graph |\n",
    "tensor.clone()           # |        New         |          Yes               |\n",
    "tensor.detach()          # |      Shared        |          No                |\n",
    "tensor.detach.clone()()  # |        New         |          No                |\n",
    "\n",
    "# 张量拼接\n",
    "# torch.cat和torch.stack的区别在于\n",
    "# - torch.cat沿着给定的维度拼接\n",
    "# - torch.stack会新增一维\n",
    "# 例如当参数是3个10x5的张量\n",
    "# - torch.cat的结果是30x5的张量\n",
    "# - torch.stack的结果是3x10x5的张量\n",
    "\n",
    "tensor = torch.cat(list_of_tensors, dim=0)\n",
    "tensor = torch.stack(list_of_tensors, dim=0)"
   ]
  },
  {
   "cell_type": "code",
   "execution_count": null,
   "id": "a5d472be-0818-41da-ba74-f83bf7f03886",
   "metadata": {},
   "outputs": [],
   "source": [
    "# 将整数标签转为one-hot编码\n",
    "# pytorch的标记默认从0开始\n",
    "tensor = torch.tensor([0, 2, 1, 3])\n",
    "N = tensor.size(0)\n",
    "num_classes = 4\n",
    "one_hot = torch.zeros(N, num_classes).long()\n",
    "one_hot.scatter_(dim=1, \n",
    "                 index=torch.unsqueeze(tensor, dim=1), \n",
    "                 src=torch.ones(N, num_classes).long())\n",
    "\n",
    "\n",
    "# 得到非零元素\n",
    "torch.nonzero(tensor)               # index of non-zero elements\n",
    "torch.nonzero(tensor==0)            # index of zero elements\n",
    "torch.nonzero(tensor).size(0)       # number of non-zero elements\n",
    "torch.nonzero(tensor == 0).size(0)  # number of zero elements\n",
    "\n",
    "\n",
    "# 判断两个张量相等\n",
    "torch.allclose(tensor1, tensor2)  # float tensor\n",
    "torch.equal(tensor1, tensor2)     # int tensor\n",
    "\n",
    "\n",
    "# 张量扩展\n",
    "# Expand tensor of shape 64*512 to shape 64*512*7*7.\n",
    "tensor = torch.rand(64,512)\n",
    "torch.reshape(tensor, (64, 512, 1, 1)).expand(64, 512, 7, 7)\n",
    "\n",
    "\n",
    "# 矩阵乘法\n",
    "# Matrix multiplcation: (m*n) * (n*p) * -> (m*p).\n",
    "result = torch.mm(tensor1, tensor2)\n",
    "\n",
    "# Batch matrix multiplication: (b*m*n) * (b*n*p) -> (b*m*p)\n",
    "result = torch.bmm(tensor1, tensor2)\n",
    "\n",
    "# Element-wise multiplication.\n",
    "result = tensor1 * tensor2\n",
    "\n",
    "\n",
    "# 计算两组数据之间的两两欧式距离\n",
    "# 利用broadcast机制\n",
    "dist = torch.sqrt(torch.sum((X1[:,None,:] - X2) ** 2, dim=2))"
   ]
  },
  {
   "cell_type": "markdown",
   "id": "studied-manor",
   "metadata": {},
   "source": [
    "# Basics"
   ]
  },
  {
   "cell_type": "markdown",
   "id": "tested-screening",
   "metadata": {},
   "source": [
    "## New tensor"
   ]
  },
  {
   "cell_type": "code",
   "execution_count": 5,
   "id": "forbidden-medium",
   "metadata": {},
   "outputs": [
    {
     "name": "stdout",
     "output_type": "stream",
     "text": [
      "tensor([[1, 1, 1],\n",
      "        [1, 1, 1],\n",
      "        [1, 1, 1]]) \n",
      " tensor([[1, 1, 1],\n",
      "        [1, 1, 1],\n",
      "        [1, 1, 1]])\n",
      "True\n",
      "tensor([[1, 1, 1],\n",
      "        [1, 1, 1],\n",
      "        [1, 1, 1]]) \n",
      " tensor([[0, 0, 0],\n",
      "        [0, 0, 0],\n",
      "        [0, 0, 0]])\n"
     ]
    }
   ],
   "source": [
    "out_t = torch.tensor([1])\n",
    "t = torch.ones((3, 3), out=out_t)\n",
    "\n",
    "print(out_t, '\\n', t)\n",
    "print(id(t) == id(out_t))\n",
    "\n",
    "t = torch.zeros_like(out_t)\n",
    "\n",
    "print(out_t, '\\n', t)"
   ]
  },
  {
   "cell_type": "code",
   "execution_count": 7,
   "id": "specialized-nelson",
   "metadata": {},
   "outputs": [
    {
     "data": {
      "text/plain": [
       "tensor([[10, 10, 10],\n",
       "        [10, 10, 10],\n",
       "        [10, 10, 10]])"
      ]
     },
     "execution_count": 7,
     "metadata": {},
     "output_type": "execute_result"
    }
   ],
   "source": [
    "t = torch.full((3, 3), 10)\n",
    "print(t)"
   ]
  },
  {
   "cell_type": "code",
   "execution_count": 8,
   "id": "engaging-carroll",
   "metadata": {},
   "outputs": [
    {
     "name": "stdout",
     "output_type": "stream",
     "text": [
      "tensor([2, 5, 8]) tensor([ 2.0000,  3.6000,  5.2000,  6.8000,  8.4000, 10.0000])\n"
     ]
    }
   ],
   "source": [
    "# also check torch.logspace\n",
    "t1 = torch.arange(2, 10, 3)  # 3 is step\n",
    "t2 = torch.linspace(2, 10, 6)  # 6 is len\n",
    "print(t1, t2)"
   ]
  },
  {
   "cell_type": "code",
   "execution_count": 10,
   "id": "circular-concord",
   "metadata": {},
   "outputs": [
    {
     "name": "stdout",
     "output_type": "stream",
     "text": [
      "tensor([[1., 0., 0., 0.],\n",
      "        [0., 1., 0., 0.],\n",
      "        [0., 0., 1., 0.]])\n"
     ]
    }
   ],
   "source": [
    "t = torch.eye(3, 4)\n",
    "print(t)"
   ]
  },
  {
   "cell_type": "markdown",
   "id": "controlling-nature",
   "metadata": {},
   "source": [
    "## New tensor: Distribution"
   ]
  },
  {
   "cell_type": "code",
   "execution_count": 11,
   "id": "aquatic-career",
   "metadata": {},
   "outputs": [
    {
     "name": "stdout",
     "output_type": "stream",
     "text": [
      "tensor([-1.5862,  0.1699, -0.4199,  0.6070])\n",
      "torch.float32\n",
      "tensor([-0.3260,  2.0730,  0.1900,  6.0510])\n",
      "tensor([-0.5818,  2.8980,  4.6313,  5.4605])\n",
      "tensor([-0.3469,  1.2486,  6.1148,  2.1285])\n"
     ]
    }
   ],
   "source": [
    "# also check torch.rand\n",
    "\n",
    "# [1] What is produced at this time is a distribution,\n",
    "# from which the corresponding number of species is sampled\n",
    "# So this must specify the size, which is how many to extract\n",
    "t_normal = torch.normal(0, 1, size=(4, ))\n",
    "print(t_normal)\n",
    "\n",
    "# [2] At this time, according to the shape and size of the variance, the same multiple distributions will be generated,\n",
    "# and the mean of each distribution is that scalar\n",
    "std = torch.arange(1, 5, dtype=torch.float)\n",
    "print(std.dtype)\n",
    "t_normal2 = torch.normal(1, std)\n",
    "print(t_normal2)  # Equal distribution means\n",
    "\n",
    "# [3] At this time, according to the shape and size of the mean, the same multiple distributions with the same variance will be generated,\n",
    "# and one value from these distributions will be taken as the result.\n",
    "mean = torch.arange(1, 5, dtype=torch.float)\n",
    "t_normal3 = torch.normal(mean, 1)\n",
    "print(t_normal3)  # Equal distribution variances\n",
    "\n",
    "# [4] At this time, the number of mean values and the number of variances need to be as many,\n",
    "# so that so many normal distributions are generated respectively, and a value is extracted from it\n",
    "mean = torch.arange(1, 5, dtype=torch.float)\n",
    "std = torch.arange(1, 5, dtype=torch.float)\n",
    "t_normal4 = torch.normal(mean, std)\n",
    "print(t_normal4)"
   ]
  },
  {
   "cell_type": "markdown",
   "id": "saved-heaven",
   "metadata": {},
   "source": [
    "## Operations"
   ]
  },
  {
   "cell_type": "code",
   "execution_count": 12,
   "id": "visible-freeze",
   "metadata": {},
   "outputs": [
    {
     "name": "stdout",
     "output_type": "stream",
     "text": [
      "tensor([[1., 1., 1.],\n",
      "        [1., 1., 1.]])\n",
      "tensor([[1., 1., 1.],\n",
      "        [1., 1., 1.],\n",
      "        [1., 1., 1.],\n",
      "        [1., 1., 1.]]) torch.Size([4, 3])\n",
      "tensor([[1., 1., 1., 1., 1., 1.],\n",
      "        [1., 1., 1., 1., 1., 1.]]) torch.Size([2, 6])\n"
     ]
    }
   ],
   "source": [
    "# Only floating-point number type splicing is possible, long type splicing will report an error\n",
    "\n",
    "t = torch.ones((2, 3))\n",
    "print(t)\n",
    "\n",
    "t_0 = torch.cat([t, t], dim=0)  # row\n",
    "t_1 = torch.cat([t, t], dim=1)  # col\n",
    "print(t_0, t_0.shape)\n",
    "print(t_1, t_1.shape)"
   ]
  },
  {
   "cell_type": "code",
   "execution_count": 13,
   "id": "norwegian-fantasy",
   "metadata": {},
   "outputs": [
    {
     "name": "stdout",
     "output_type": "stream",
     "text": [
      "tensor([[[1., 1., 1.],\n",
      "         [1., 1., 1.]],\n",
      "\n",
      "        [[1., 1., 1.],\n",
      "         [1., 1., 1.]],\n",
      "\n",
      "        [[1., 1., 1.],\n",
      "         [1., 1., 1.]]])\n",
      "torch.Size([3, 2, 3])\n",
      "tensor([[[1., 1., 1.],\n",
      "         [1., 1., 1.],\n",
      "         [1., 1., 1.]],\n",
      "\n",
      "        [[1., 1., 1.],\n",
      "         [1., 1., 1.],\n",
      "         [1., 1., 1.]]])\n",
      "torch.Size([2, 3, 3])\n"
     ]
    }
   ],
   "source": [
    "t_stack = torch.stack([t, t, t], dim=0)\n",
    "print(t_stack)\n",
    "print(t_stack.shape)\n",
    "\n",
    "t_stack1 = torch.stack([t, t, t], dim=1)\n",
    "print(t_stack1)\n",
    "print(t_stack1.shape)"
   ]
  },
  {
   "cell_type": "code",
   "execution_count": 15,
   "id": "industrial-nirvana",
   "metadata": {},
   "outputs": [
    {
     "name": "stdout",
     "output_type": "stream",
     "text": [
      "tensor([7, 3, 1, 0, 2, 5, 6, 4])\n",
      "tensor([[[7, 3],\n",
      "         [1, 0]],\n",
      "\n",
      "        [[2, 5],\n",
      "         [6, 4]]])\n",
      "tensor([[[1024,    3],\n",
      "         [   1,    0]],\n",
      "\n",
      "        [[   2,    5],\n",
      "         [   6,    4]]])\n",
      "True\n"
     ]
    }
   ],
   "source": [
    "t = torch.randperm(8)  # random rearrange\n",
    "print(t)\n",
    "\n",
    "t_reshape = torch.reshape(t, (-1, 2, 2))\n",
    "print(t_reshape)\n",
    "\n",
    "t[0] = 1024\n",
    "print(t_reshape)\n",
    "print(id(t.data) == id(t_reshape.data))"
   ]
  },
  {
   "cell_type": "code",
   "execution_count": 16,
   "id": "subjective-evening",
   "metadata": {},
   "outputs": [
    {
     "name": "stdout",
     "output_type": "stream",
     "text": [
      "tensor([[[0.8687, 0.5828, 0.8613, 0.5346],\n",
      "         [0.7679, 0.7404, 0.3880, 0.4109],\n",
      "         [0.7847, 0.1090, 0.1712, 0.0072]],\n",
      "\n",
      "        [[0.9313, 0.5125, 0.8410, 0.0259],\n",
      "         [0.1565, 0.2184, 0.6560, 0.4503],\n",
      "         [0.7610, 0.8124, 0.0931, 0.4846]]])\n",
      "torch.Size([2, 3, 4]) torch.Size([4, 3, 2])\n"
     ]
    }
   ],
   "source": [
    "t = torch.rand((2, 3, 4))  # rand int between 0 and 1\n",
    "print(t)\n",
    "\n",
    "t_transpose = torch.transpose(t, dim0=0,\n",
    "                              dim1=2)  # c*h*w  h*w*c, swap dim 0 and dim 2\n",
    "print(t.shape, t_transpose.shape)"
   ]
  },
  {
   "cell_type": "markdown",
   "id": "constant-natural",
   "metadata": {},
   "source": [
    "## Linear regression"
   ]
  },
  {
   "cell_type": "code",
   "execution_count": 18,
   "id": "interested-perspective",
   "metadata": {},
   "outputs": [
    {
     "name": "stdout",
     "output_type": "stream",
     "text": [
      "tensor([2.4950]) tensor([1.8647])\n"
     ]
    }
   ],
   "source": [
    "# y = wx + b\n",
    "# torch.add(b, w, x)\n",
    "\n",
    "# Generate data\n",
    "x = torch.rand(20, 1) * 10\n",
    "y = 2 * x + (5 + torch.randn(20, 1))\n",
    "\n",
    "# Parameters\n",
    "w = torch.randn((1), requires_grad=True)\n",
    "b = torch.zeros((1), requires_grad=True)\n",
    "\n",
    "lr = 0.01\n",
    "for iteration in range(100):\n",
    "    # Forward\n",
    "    wx = torch.mul(w, x)\n",
    "    y_pred = torch.add(wx, b)\n",
    "\n",
    "    # Loss\n",
    "    loss = (0.5 * (y - y_pred)**2).mean()\n",
    "\n",
    "    # Backword\n",
    "    loss.backward()\n",
    "\n",
    "    # Update parameters\n",
    "    b.data.sub_(lr * b.grad)  # `sub_` same as -=\n",
    "    w.data.sub_(lr * w.grad)\n",
    "\n",
    "    # Clear grad\n",
    "    w.grad.data.zero_()\n",
    "    b.grad.data.zero_()\n",
    "\n",
    "print(w.data, b.data)"
   ]
  },
  {
   "cell_type": "markdown",
   "id": "municipal-europe",
   "metadata": {},
   "source": [
    "# Grad"
   ]
  },
  {
   "cell_type": "markdown",
   "id": "figured-agenda",
   "metadata": {},
   "source": [
    "## tensor.backward()"
   ]
  },
  {
   "cell_type": "code",
   "execution_count": 19,
   "id": "dietary-aurora",
   "metadata": {},
   "outputs": [
    {
     "name": "stdout",
     "output_type": "stream",
     "text": [
      "tensor([5.])\n"
     ]
    }
   ],
   "source": [
    "# y = (x+w) * (w+1)\n",
    "\n",
    "# init, leaf\n",
    "w = torch.tensor([1.], requires_grad=True)\n",
    "x = torch.tensor([2.], requires_grad=True)\n",
    "\n",
    "# forward\n",
    "a = torch.add(w, x)\n",
    "b = torch.add(w, 1)\n",
    "y = torch.mul(a, b)\n",
    "\n",
    "# backward\n",
    "y.backward()\n",
    "# y.backward(retain_graph=True)\n",
    "\n",
    "print(w.grad)\n",
    "\n",
    "# By default, we only keep the gradient of leaf\n",
    "# We can add `a.retain_grad()` to retain gradient\n",
    "# add `y.backward(retain_graph=True)` to retain graph\n",
    "\n",
    "# True True False False False\n",
    "print(\"is_leaf:\", w.is_leaf, x.is_leaf, a.is_leaf, b.is_leaf, y.is_leaf)\n",
    "\n",
    "# tensor([5.]) tensor([2.]) None None None\n",
    "print(\"gradient:\", w.grad, x.grad, a.grad, b.grad, y.grad)\n",
    "\n",
    "# Record the method (function) used to create the tensor\n",
    "# None None <AddBackward0 object at 0x7f8c1e3fa6d0> <AddBackward0 object at 0x7f8c1e3fa710> <MulBackward0 object at 0x7f8c1e3fa750>\n",
    "print(\"grad_fn:\", w.grad_fn, x.grad_fn, a.grad_fn, b.grad_fn, y.grad_fn)"
   ]
  },
  {
   "cell_type": "markdown",
   "id": "aquatic-convergence",
   "metadata": {},
   "source": [
    "## torch.autograd.grad()"
   ]
  },
  {
   "cell_type": "code",
   "execution_count": 23,
   "id": "charitable-advertiser",
   "metadata": {},
   "outputs": [
    {
     "name": "stdout",
     "output_type": "stream",
     "text": [
      "(tensor([6.], grad_fn=<MulBackward0>),)\n",
      "(tensor([2.]),)\n"
     ]
    }
   ],
   "source": [
    "x = torch.tensor([3.], requires_grad=True)\n",
    "y = torch.pow(x, 2)  # y=x^2\n",
    "\n",
    "# First derivate\n",
    "grad_1 = torch.autograd.grad(y, x, create_graph=True)  # grad_1 = dy/dx = 2x\n",
    "print(\n",
    "    grad_1\n",
    ")  # (tensor([6.], grad_fn=<MulBackward0>),)  we need the first part to calc 2nd derivate\n",
    "\n",
    "# Second derivate\n",
    "grad_2 = torch.autograd.grad(grad_1[0], x)  # grad_2 = d(dy/dx) /dx = 2\n",
    "print(grad_2)  # (tensor([2.]),)"
   ]
  },
  {
   "cell_type": "code",
   "execution_count": 24,
   "id": "statewide-peter",
   "metadata": {},
   "outputs": [
    {
     "name": "stdout",
     "output_type": "stream",
     "text": [
      "tensor(2.) tensor(1.)\n",
      "tensor(3.) tensor(2.)\n"
     ]
    }
   ],
   "source": [
    "x1 = torch.tensor(1.0, requires_grad=True)\n",
    "x2 = torch.tensor(2.0, requires_grad=True)\n",
    "\n",
    "y1 = x1 * x2\n",
    "y2 = x1 + x2\n",
    "\n",
    "# Allows to take the derivative of multiple independent variables at the same time\n",
    "(dy1_dx1, dy1_dx2) = torch.autograd.grad(outputs=y1,\n",
    "                                         inputs=[x1, x2],\n",
    "                                         retain_graph=True)  # Yep\n",
    "print(dy1_dx1, dy1_dx2)\n",
    "\n",
    "# If there are multiple dependent variables (y1 and y2),\n",
    "# it is equivalent to summing the gradient results of multiple dependent variables\n",
    "(dy12_dx1, dy12_dx2) = torch.autograd.grad(outputs=[y1, y2], inputs=[x1, x2])\n",
    "print(dy12_dx1, dy12_dx2)  # tensor(3.) tensor(2.)"
   ]
  },
  {
   "cell_type": "code",
   "execution_count": 30,
   "id": "freelance-french",
   "metadata": {},
   "outputs": [
    {
     "name": "stdout",
     "output_type": "stream",
     "text": [
      "tensor([5.])\n",
      "tensor([10.])\n",
      "tensor([15.])\n",
      "tensor([20.])\n"
     ]
    }
   ],
   "source": [
    "w = torch.tensor([1.], requires_grad=True)\n",
    "x = torch.tensor([2.], requires_grad=True)\n",
    "\n",
    "for i in range(4):\n",
    "    a = torch.add(w, x)\n",
    "    b = torch.add(w, 1)\n",
    "    y = torch.mul(a, b)\n",
    "\n",
    "    # You cannot do in-place to leaf\n",
    "    # w.add_(1)\n",
    "\n",
    "    y.backward()\n",
    "    print(w.grad)\n",
    "\n",
    "    # Remember to reset gradient!!!\n",
    "    # Gradient is not automatically cleared\n",
    "    # w.grad.zero_()"
   ]
  },
  {
   "cell_type": "markdown",
   "id": "dominant-castle",
   "metadata": {},
   "source": [
    "## Logistic regression\n",
    "Log odds regression, linear regression for prob"
   ]
  },
  {
   "cell_type": "code",
   "execution_count": 39,
   "id": "local-amino",
   "metadata": {},
   "outputs": [],
   "source": [
    "# Generate data\n",
    "torch.manual_seed(1)\n",
    "\n",
    "sample_nums = 100\n",
    "mean_value = 1.7\n",
    "bias = 1\n",
    "\n",
    "n_data = torch.ones(sample_nums, 2)\n",
    "x0 = torch.normal(mean_value * n_data, 1) + bias  # shape=(100,2)\n",
    "y0 = torch.zeros(sample_nums)  # shape=(100, 1)\n",
    "x1 = torch.normal(-mean_value * n_data, 1) + bias\n",
    "y1 = torch.ones(sample_nums)\n",
    "\n",
    "train_x = torch.cat([x0, x1], 0)\n",
    "train_y = torch.cat([y0, y1], 0)"
   ]
  },
  {
   "cell_type": "code",
   "execution_count": 35,
   "id": "second-prague",
   "metadata": {},
   "outputs": [],
   "source": [
    "# Model\n",
    "class LR(torch.nn.Module):\n",
    "    def __init__(self):\n",
    "        super(LR, self).__init__()\n",
    "        self.features = torch.nn.Linear(2, 1)  # Input 2 nodes, output 1 node\n",
    "        self.sigmoid = torch.nn.Sigmoid()\n",
    "\n",
    "    def forward(self, x):\n",
    "        x = self.features(x)\n",
    "        x = self.sigmoid(x)\n",
    "        return x\n",
    "\n",
    "\n",
    "lr_net = LR()"
   ]
  },
  {
   "cell_type": "code",
   "execution_count": null,
   "id": "hollywood-emergency",
   "metadata": {},
   "outputs": [],
   "source": [
    "# Different way to write Model\n",
    "# lr_net = torch.nn.Sequential(\n",
    "#     torch.nn.Linear(2, 1),\n",
    "#     torch.nn.Sigmoid()\n",
    "# )"
   ]
  },
  {
   "cell_type": "code",
   "execution_count": 36,
   "id": "exposed-benjamin",
   "metadata": {},
   "outputs": [],
   "source": [
    "loss_fn = torch.nn.BCELoss()\n",
    "lr = 0.01\n",
    "optimizer = torch.optim.SGD(lr_net.parameters(), lr=lr, momentum=0.9)"
   ]
  },
  {
   "cell_type": "code",
   "execution_count": 40,
   "id": "featured-analysis",
   "metadata": {},
   "outputs": [
    {
     "data": {
      "image/png": "[encoded data removed]",
      "text/plain": [
       "<Figure size 432x288 with 1 Axes>"
      ]
     },
     "metadata": {
      "needs_background": "light"
     },
     "output_type": "display_data"
    }
   ],
   "source": [
    "# Training\n",
    "for iteration in range(1000):\n",
    "    y_pred = lr_net(train_x)\n",
    "    loss = loss_fn(y_pred.squeeze(), train_y)\n",
    "    loss.backward()\n",
    "    optimizer.step()\n",
    "    optimizer.zero_grad()  # remember to clear then grad\n",
    "\n",
    "    if iteration % 60 == 0:\n",
    "        mask = y_pred.ge(\n",
    "            0.5).float().squeeze()  # Use 0.5 as a threshold for classification\n",
    "        correct = (mask == train_y).sum()\n",
    "        acc = correct.item() / train_y.size(0)\n",
    "\n",
    "        plt.scatter(x0.data.numpy()[:, 0],\n",
    "                    x0.data.numpy()[:, 1],\n",
    "                    c='r',\n",
    "                    label='class 0')\n",
    "        plt.scatter(x1.data.numpy()[:, 0],\n",
    "                    x1.data.numpy()[:, 1],\n",
    "                    c='b',\n",
    "                    label='class 1')\n",
    "\n",
    "        w0, w1 = lr_net.features.weight[0]\n",
    "        w0, w1 = float(w0.item()), float(w1.item())\n",
    "        plot_b = float(lr_net.features.bias[0].item())\n",
    "        plot_x = np.arange(-6, 6, 0.1)\n",
    "        plot_y = (-w0 * plot_x - plot_b) / w1\n",
    "\n",
    "        plt.xlim(-5, 7)\n",
    "        plt.ylim(-7, 7)\n",
    "        plt.plot(plot_x, plot_y)\n",
    "\n",
    "        plt.text(-5,\n",
    "                 5,\n",
    "                 'Loss=%.4f' % loss.data.numpy(),\n",
    "                 fontdict={\n",
    "                     'size': 20,\n",
    "                     'color': 'red'\n",
    "                 })\n",
    "        plt.title(\n",
    "            \"Iteration: {}\\nw0:{:.2f} w1:{:.2f} b: {:.2f} accuracy:{:.2%}\".\n",
    "            format(iteration, w0, w1, plot_b, acc))\n",
    "        plt.legend()\n",
    "\n",
    "        plt.show()\n",
    "        plt.pause(0.5)\n",
    "\n",
    "        if acc > 0.99:\n",
    "            break"
   ]
  }
 ],
 "metadata": {
  "jupytext": {
   "encoding": "# -*- coding: utf-8 -*-",
   "formats": "ipynb,py:percent"
  },
  "kernelspec": {
   "display_name": "Python (torch)",
   "language": "python",
   "name": "torch"
  },
  "language_info": {
   "codemirror_mode": {
    "name": "ipython",
    "version": 3
   },
   "file_extension": ".py",
   "mimetype": "text/x-python",
   "name": "python",
   "nbconvert_exporter": "python",
   "pygments_lexer": "ipython3",
   "version": "3.7.10"
  },
  "toc-autonumbering": true
 },
 "nbformat": 4,
 "nbformat_minor": 5
}
