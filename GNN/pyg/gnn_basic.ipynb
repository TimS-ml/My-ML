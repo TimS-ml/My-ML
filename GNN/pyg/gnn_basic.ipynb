{
 "cells": [
  {
   "cell_type": "markdown",
   "metadata": {},
   "source": [
    "# GNN Basic\n",
    "\n",
    "- [Pytorch Geometric tutorial: Introduction to Pytorch geometric - YouTube](https://www.youtube.com/watch?v=JtDgmmQ60x8)\n",
    "\n",
    "adj matrixs:\n",
    "- adding node (different sizes) change the size of adj matrix\n",
    "- node ording doesn't matter\n",
    "- every node has it's own computation graph"
   ]
  },
  {
   "cell_type": "code",
   "execution_count": 1,
   "metadata": {},
   "outputs": [],
   "source": [
    "import os\n",
    "import torch\n",
    "import torch.nn as nn\n",
    "import torch.nn.functional as F\n",
    "\n",
    "import torch_geometric\n",
    "from torch_geometric.datasets import Planetoid\n",
    "\n",
    "os.chdir('..')\n",
    "\n",
    "from utils.utils import *"
   ]
  },
  {
   "cell_type": "code",
   "execution_count": 2,
   "metadata": {},
   "outputs": [],
   "source": [
    "def count_unique(tensor):\n",
    "    # Calculate unique values and their counts\n",
    "    unique_values, counts = torch.unique(tensor, return_counts=True)\n",
    "\n",
    "    # Convert unique_values to a Python list\n",
    "    unique_values = unique_values.tolist()\n",
    "\n",
    "    # Convert counts to a Python list\n",
    "    counts = counts.tolist()\n",
    "\n",
    "    # Print the unique values and their counts\n",
    "    for value, count in zip(unique_values, counts):\n",
    "        print(f\"Value: {value}, Count: {count}\")\n",
    "    \n",
    "    print()"
   ]
  },
  {
   "cell_type": "code",
   "execution_count": 3,
   "metadata": {},
   "outputs": [],
   "source": [
    "dataset = Planetoid(root=\"../Data/\", name=\"Cora\")"
   ]
  },
  {
   "cell_type": "code",
   "execution_count": 4,
   "metadata": {},
   "outputs": [
    {
     "name": "stdout",
     "output_type": "stream",
     "text": [
      "\u001b[93mtype(dataset)\u001b[0m: \n",
      "<class 'torch_geometric.datasets.planetoid.Planetoid'>\n",
      "\n"
     ]
    }
   ],
   "source": [
    "cprint(type(dataset))"
   ]
  },
  {
   "cell_type": "code",
   "execution_count": 5,
   "metadata": {},
   "outputs": [
    {
     "name": "stdout",
     "output_type": "stream",
     "text": [
      "\u001b[93mdataset.data\u001b[0m: \n",
      "Data(x=[2708, 1433], edge_index=[2, 10556], y=[2708], train_mask=[2708], val_mask=[2708], test_mask=[2708])\n",
      "\n"
     ]
    },
    {
     "name": "stderr",
     "output_type": "stream",
     "text": [
      "/home/tim/miniconda3/envs/gnn/lib/python3.11/site-packages/torch_geometric/data/in_memory_dataset.py:157: UserWarning: It is not recommended to directly access the internal storage format `data` of an 'InMemoryDataset'. If you are absolutely certain what you are doing, access the internal storage via `InMemoryDataset._data` instead to suppress this warning. Alternatively, you can access stacked individual attributes of every graph via `dataset.{attr_name}`.\n",
      "  warnings.warn(msg)\n"
     ]
    }
   ],
   "source": [
    "cprint(dataset.data)"
   ]
  },
  {
   "cell_type": "code",
   "execution_count": 6,
   "metadata": {},
   "outputs": [
    {
     "name": "stdout",
     "output_type": "stream",
     "text": [
      "number of graphs:\t\t 1\n",
      "number of classes:\t\t 7\n",
      "number of node features:\t 1433\n",
      "number of edge features:\t 0\n"
     ]
    }
   ],
   "source": [
    "# it's a graph already?\n",
    "print(\"number of graphs:\\t\\t\",len(dataset))\n",
    "print(\"number of classes:\\t\\t\",dataset.num_classes)\n",
    "print(\"number of node features:\\t\",dataset.num_node_features)\n",
    "print(\"number of edge features:\\t\",dataset.num_edge_features)"
   ]
  },
  {
   "cell_type": "code",
   "execution_count": 7,
   "metadata": {},
   "outputs": [
    {
     "name": "stdout",
     "output_type": "stream",
     "text": [
      "\u001b[93mdataset.data.edge_index.shape\u001b[0m: \n",
      "torch.Size([2, 10556])\n",
      "\n",
      "\u001b[93mdataset.data.edge_index\u001b[0m: \n",
      "tensor([[   0,    0,    0,  ..., 2707, 2707, 2707],\n",
      "        [ 633, 1862, 2582,  ...,  598, 1473, 2706]])\n",
      "\n"
     ]
    }
   ],
   "source": [
    "cprint(dataset.data.edge_index.shape)\n",
    "cprint(dataset.data.edge_index)"
   ]
  },
  {
   "cell_type": "code",
   "execution_count": 8,
   "metadata": {},
   "outputs": [
    {
     "name": "stdout",
     "output_type": "stream",
     "text": [
      "\u001b[93mdataset.data.train_mask.shape\u001b[0m: \n",
      "torch.Size([2708])\n",
      "\n",
      "\u001b[93mdataset.data.train_mask\u001b[0m: \n",
      "tensor([ True,  True,  True,  ..., False, False, False])\n",
      "\n",
      "Value: False, Count: 2568\n",
      "Value: True, Count: 140\n",
      "\n"
     ]
    }
   ],
   "source": [
    "cprint(dataset.data.train_mask.shape)\n",
    "cprint(dataset.data.train_mask)\n",
    "count_unique(dataset.data.train_mask)"
   ]
  },
  {
   "cell_type": "code",
   "execution_count": 9,
   "metadata": {},
   "outputs": [
    {
     "name": "stdout",
     "output_type": "stream",
     "text": [
      "\u001b[93mdataset.data.x.shape\u001b[0m: \n",
      "torch.Size([2708, 1433])\n",
      "\n",
      "\u001b[93mdataset.data.x\u001b[0m: \n",
      "tensor([[0., 0., 0.,  ..., 0., 0., 0.],\n",
      "        [0., 0., 0.,  ..., 0., 0., 0.],\n",
      "        [0., 0., 0.,  ..., 0., 0., 0.],\n",
      "        ...,\n",
      "        [0., 0., 0.,  ..., 0., 0., 0.],\n",
      "        [0., 0., 0.,  ..., 0., 0., 0.],\n",
      "        [0., 0., 0.,  ..., 0., 0., 0.]])\n",
      "\n",
      "\u001b[93mdataset.data.y.shape\u001b[0m: \n",
      "torch.Size([2708])\n",
      "\n",
      "\u001b[93mdataset.data.y\u001b[0m: \n",
      "tensor([3, 4, 4,  ..., 3, 3, 3])\n",
      "\n",
      "Value: 0, Count: 351\n",
      "Value: 1, Count: 217\n",
      "Value: 2, Count: 418\n",
      "Value: 3, Count: 818\n",
      "Value: 4, Count: 426\n",
      "Value: 5, Count: 298\n",
      "Value: 6, Count: 180\n",
      "\n",
      "\u001b[93mdataset.data.x[dataset.data.train_mask].shape\u001b[0m: \n",
      "torch.Size([140, 1433])\n",
      "\n"
     ]
    }
   ],
   "source": [
    "cprint(dataset.data.x.shape)\n",
    "cprint(dataset.data.x)\n",
    "\n",
    "cprint(dataset.data.y.shape)\n",
    "cprint(dataset.data.y)\n",
    "count_unique(dataset.data.y)\n",
    "\n",
    "cprint(dataset.data.x[dataset.data.train_mask].shape)"
   ]
  },
  {
   "cell_type": "code",
   "execution_count": 10,
   "metadata": {},
   "outputs": [
    {
     "name": "stdout",
     "output_type": "stream",
     "text": [
      "\n",
      "\u001b[93mMagic Methods:\u001b[0m\n",
      "    __abstractmethods__\n",
      "    __add__\n",
      "    __annotations__\n",
      "    __class__\n",
      "    __class_getitem__\n",
      "    __delattr__\n",
      "    __dict__\n",
      "    __dir__\n",
      "    __doc__\n",
      "    __eq__\n",
      "    __format__\n",
      "    __ge__\n",
      "    __getattr__\n",
      "    __getattribute__\n",
      "    __getitem__\n",
      "    __getstate__\n",
      "    __gt__\n",
      "    __hash__\n",
      "    __init__\n",
      "    __init_subclass__\n",
      "    __le__\n",
      "    __len__\n",
      "    __lt__\n",
      "    __module__\n",
      "    __ne__\n",
      "    __new__\n",
      "    __orig_bases__\n",
      "    __parameters__\n",
      "    __reduce__\n",
      "    __reduce_ex__\n",
      "    __repr__\n",
      "    __setattr__\n",
      "    __sizeof__\n",
      "    __slots__\n",
      "    __str__\n",
      "    __subclasshook__\n",
      "    __weakref__\n",
      "\n",
      "\u001b[93mPrivate Methods:\u001b[0m\n",
      "    _abc_impl\n",
      "    _data\n",
      "    _data_list\n",
      "    _download\n",
      "    _indices\n",
      "    _infer_num_classes\n",
      "    _is_protocol\n",
      "    _process\n",
      "\n",
      "\u001b[93mPublic Methods:\u001b[0m\n",
      "    collate\n",
      "    copy\n",
      "    data\n",
      "    download\n",
      "    geom_gcn_url\n",
      "    get\n",
      "    get_summary\n",
      "    has_download\n",
      "    has_process\n",
      "    index_select\n",
      "    indices\n",
      "    len\n",
      "    log\n",
      "    name\n",
      "    num_classes\n",
      "    num_edge_features\n",
      "    num_features\n",
      "    num_node_features\n",
      "    pre_filter\n",
      "    pre_transform\n",
      "    print_summary\n",
      "    process\n",
      "    processed_dir\n",
      "    processed_file_names\n",
      "    processed_paths\n",
      "    raw_dir\n",
      "    raw_file_names\n",
      "    raw_paths\n",
      "    root\n",
      "    shuffle\n",
      "    slices\n",
      "    split\n",
      "    to_datapipe\n",
      "    transform\n",
      "    url\n"
     ]
    }
   ],
   "source": [
    "print_methods(dataset)"
   ]
  },
  {
   "cell_type": "markdown",
   "metadata": {},
   "source": [
    "# Basic NN and Training"
   ]
  },
  {
   "cell_type": "code",
   "execution_count": 11,
   "metadata": {},
   "outputs": [],
   "source": [
    "import torch.nn.functional as F\n",
    "from torch_geometric.nn import SAGEConv"
   ]
  },
  {
   "cell_type": "code",
   "execution_count": 12,
   "metadata": {},
   "outputs": [],
   "source": [
    "data = dataset[0]\n",
    "\n",
    "class Net(torch.nn.Module):\n",
    "    def __init__(self):\n",
    "        super(Net, self).__init__()\n",
    "        \n",
    "        self.conv = SAGEConv(dataset.num_features,\n",
    "                             dataset.num_classes,\n",
    "                             aggr=\"max\") # max, mean, add ...)\n",
    "\n",
    "    def forward(self):\n",
    "        x = self.conv(data.x, data.edge_index)\n",
    "        return F.log_softmax(x, dim=1)\n",
    "    \n",
    "\n",
    "device = 'cuda'\n",
    "model, data = Net().to(device), data.to(device)\n",
    "optimizer = torch.optim.Adam(model.parameters(), lr=0.01, weight_decay=5e-4)"
   ]
  },
  {
   "cell_type": "code",
   "execution_count": 13,
   "metadata": {},
   "outputs": [],
   "source": [
    "def train():\n",
    "    model.train()\n",
    "    optimizer.zero_grad()\n",
    "    F.nll_loss(model()[data.train_mask], data.y[data.train_mask]).backward()\n",
    "    optimizer.step()\n",
    "\n",
    "\n",
    "def test():\n",
    "    model.eval()\n",
    "    logits, accs = model(), []\n",
    "    for _, mask in data('train_mask', 'val_mask', 'test_mask'):\n",
    "        pred = logits[mask].max(1)[1]\n",
    "        acc = pred.eq(data.y[mask]).sum().item() / mask.sum().item()\n",
    "        accs.append(acc)\n",
    "    return accs"
   ]
  },
  {
   "cell_type": "code",
   "execution_count": null,
   "metadata": {},
   "outputs": [],
   "source": [
    "# best_val_acc = test_acc = 0\n",
    "# for epoch in range(1,100):\n",
    "#     train()\n",
    "#     _, val_acc, tmp_test_acc = test()\n",
    "#     if val_acc > best_val_acc:\n",
    "#         best_val_acc = val_acc\n",
    "#         test_acc = tmp_test_acc\n",
    "#     log = 'Epoch: {:03d}, Val: {:.4f}, Test: {:.4f}'\n",
    "    \n",
    "#     if epoch % 10 == 0:\n",
    "#         print(log.format(epoch, best_val_acc, test_acc))\n"
   ]
  },
  {
   "cell_type": "markdown",
   "metadata": {},
   "source": [
    "# GAT"
   ]
  },
  {
   "cell_type": "code",
   "execution_count": null,
   "metadata": {},
   "outputs": [],
   "source": []
  },
  {
   "cell_type": "code",
   "execution_count": null,
   "metadata": {},
   "outputs": [],
   "source": [
    "class GATLayer(nn.Module):\n",
    "    def __init__(self, in_features, out_features, dropout, alpha, concat=True):\n",
    "        super(GATLayer, self).__init__()\n",
    "        self.dropout       = dropout        # drop prob = 0.6\n",
    "        self.in_features   = in_features    # \n",
    "        self.out_features  = out_features   # \n",
    "        self.alpha         = alpha          # LeakyReLU with negative input slope, alpha = 0.2\n",
    "        self.concat        = concat         # conacat = True for all layers except the output layer.\n",
    "\n",
    "        \n",
    "        # Xavier Initialization of Weights\n",
    "        # Alternatively use weights_init to apply weights of choice \n",
    "        self.W = nn.Parameter(torch.zeros(size=(in_features, out_features)))\n",
    "        nn.init.xavier_uniform_(self.W.data, gain=1.414)\n",
    "        \n",
    "        self.a = nn.Parameter(torch.zeros(size=(2*out_features, 1)))\n",
    "        nn.init.xavier_uniform_(self.a.data, gain=1.414)\n",
    "        \n",
    "        # LeakyReLU\n",
    "        self.leakyrelu = nn.LeakyReLU(self.alpha)\n",
    "\n",
    "    def forward(self, input, adj):\n",
    "        # Linear Transformation\n",
    "        h = torch.mm(input, self.W) # matrix multiplication\n",
    "        N = h.size()[0]\n",
    "        print(N)\n",
    "\n",
    "        # Attention Mechanism\n",
    "        a_input = torch.cat([h.repeat(1, N).view(N * N, -1), h.repeat(N, 1)], dim=1).view(N, -1, 2 * self.out_features)\n",
    "        e       = self.leakyrelu(torch.matmul(a_input, self.a).squeeze(2))\n",
    "\n",
    "        # Masked Attention\n",
    "        zero_vec  = -9e15*torch.ones_like(e)\n",
    "        attention = torch.where(adj > 0, e, zero_vec)\n",
    "        \n",
    "        attention = F.softmax(attention, dim=1)\n",
    "        attention = F.dropout(attention, self.dropout, training=self.training)\n",
    "        h_prime   = torch.matmul(attention, h)\n",
    "\n",
    "        if self.concat:\n",
    "            return F.elu(h_prime)\n",
    "        else:\n",
    "            return h_prime"
   ]
  }
 ],
 "metadata": {
  "kernelspec": {
   "display_name": "gnn",
   "language": "python",
   "name": "python3"
  },
  "language_info": {
   "codemirror_mode": {
    "name": "ipython",
    "version": 3
   },
   "file_extension": ".py",
   "mimetype": "text/x-python",
   "name": "python",
   "nbconvert_exporter": "python",
   "pygments_lexer": "ipython3",
   "version": "3.11.4"
  },
  "orig_nbformat": 4
 },
 "nbformat": 4,
 "nbformat_minor": 2
}
