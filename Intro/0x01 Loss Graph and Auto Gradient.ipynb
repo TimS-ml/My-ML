{
  "nbformat": 4,
  "nbformat_minor": 0,
  "metadata": {
    "kernelspec": {
      "display_name": "Python 3",
      "language": "python",
      "name": "python3"
    },
    "language_info": {
      "codemirror_mode": {
        "name": "ipython",
        "version": 3
      },
      "file_extension": ".py",
      "mimetype": "text/x-python",
      "name": "python",
      "nbconvert_exporter": "python",
      "pygments_lexer": "ipython3",
      "version": "3.8.1"
    },
    "colab": {
      "name": "0x01 Loss Graph and Auto Gradient.ipynb",
      "provenance": [],
      "collapsed_sections": []
    }
  },
  "cells": [
    {
      "cell_type": "markdown",
      "metadata": {
        "id": "ZTRNEEWDUX-v"
      },
      "source": [
        "# Desc\n",
        "\n",
        "[PyTorchZeroToAll](https://www.youtube.com/playlist?list=PLlMkM4tgfjnJ3I-dbhO9JTw7gNty6o_2m)\n",
        "\n",
        "[Official Recipes](https://pytorch.org/tutorials/recipes/recipes_index.html)"
      ]
    },
    {
      "cell_type": "markdown",
      "metadata": {
        "id": "FM98Z3YgEu8Y"
      },
      "source": [
        "http://cs231n.stanford.edu/slides/2020/lecture_6.pdf"
      ]
    },
    {
      "cell_type": "markdown",
      "metadata": {
        "id": "eBdRea85Utcz"
      },
      "source": [
        "## Automatic Differentiation\n",
        "https://blog.csdn.net/aws3217150/article/details/70214422\n",
        "\n",
        "https://www.youtube.com/watch?v=ma2KXWblllc&list=PLlMkM4tgfjnJ3I-dbhO9JTw7gNty6o_2m&index=4"
      ]
    },
    {
      "cell_type": "markdown",
      "metadata": {
        "id": "zTS1bVxGGgb1"
      },
      "source": [
        "# Computational Graphs\n",
        "\n",
        "https://github.com/pytorch/pytorch/issues/5059\n",
        "\n",
        "https://towardsdatascience.com/nothing-but-numpy-understanding-creating-binary-classification-neural-networks-with-e746423c8d5c\n",
        "\n",
        "https://www.tutorialspoint.com/python_deep_learning/python_deep_learning_computational_graphs.htm\n",
        "\n",
        "```\n",
        "x y z\n",
        "\\*/ |\n",
        " a  |\n",
        " \\+/\n",
        "  b\n",
        "  | sum\n",
        "  c\n",
        "```"
      ]
    },
    {
      "cell_type": "markdown",
      "metadata": {
        "id": "WYlSkNyfGh26"
      },
      "source": [
        "## Numpy"
      ]
    },
    {
      "cell_type": "code",
      "metadata": {
        "colab": {
          "base_uri": "https://localhost:8080/"
        },
        "id": "MPaIwa6pHDtO",
        "outputId": "a70aec29-a2d5-4bc1-a683-e5e685092948"
      },
      "source": [
        "import numpy as np\n",
        "np.random.seed(0)\n",
        "\n",
        "N, D = 3, 4\n",
        "\n",
        "x = np.random.randn(N, D)\n",
        "y = np.random.randn(N, D)\n",
        "z = np.random.randn(N, D)\n",
        "# print(x, '\\n', y, '\\n', z)\n",
        "\n",
        "a = x * y\n",
        "b = a + z\n",
        "c = np.sum(b)\n",
        "\n",
        "grad_c = 1.0\n",
        "grad_b = grad_c * np.ones((N, D))\n",
        "grad_a = grad_b.copy()\n",
        "grad_z = grad_b.copy()\n",
        "grad_x = grad_a * y\n",
        "grad_y = grad_a * x\n",
        "\n",
        "# print(sum(sum(grad_x * x)))\n",
        "# print(sum(sum(grad_y * y)))\n",
        "# print(sum(sum(grad_z * z)))\n",
        "print(c)"
      ],
      "execution_count": 2,
      "outputs": [
        {
          "output_type": "stream",
          "text": [
            "6.717008537800067\n"
          ],
          "name": "stdout"
        }
      ]
    },
    {
      "cell_type": "markdown",
      "metadata": {
        "id": "tXBm-9qnGjvb"
      },
      "source": [
        "## Pytorch"
      ]
    },
    {
      "cell_type": "code",
      "metadata": {
        "colab": {
          "base_uri": "https://localhost:8080/"
        },
        "id": "DAHj5FxlJgOc",
        "outputId": "61f3d151-a4e1-4928-b81d-974e71843021"
      },
      "source": [
        "import torch\n",
        "# torch.manual_seed(0)\n",
        "\n",
        "N, D = 3, 4\n",
        "\n",
        "# t_x = torch.randn(N, D)\n",
        "# t_y = torch.randn(N, D)\n",
        "# t_z = torch.randn(N, D)\n",
        "t_x = torch.tensor(x)\n",
        "t_y = torch.tensor(y)\n",
        "t_z = torch.tensor(z)\n",
        "# print(t_x, '\\n', t_y, '\\n', t_z)\n",
        "\n",
        "a = t_x * t_y\n",
        "b = a + t_z\n",
        "c = torch.sum(b)\n",
        "\n",
        "print(c)"
      ],
      "execution_count": 5,
      "outputs": [
        {
          "output_type": "stream",
          "text": [
            "tensor(6.7170, dtype=torch.float64)\n"
          ],
          "name": "stdout"
        }
      ]
    },
    {
      "cell_type": "markdown",
      "metadata": {
        "id": "aPGkjXTnKh7V"
      },
      "source": [
        "# Linear"
      ]
    },
    {
      "cell_type": "markdown",
      "metadata": {
        "id": "AagBDrdh0ivN"
      },
      "source": [
        "## Model Framework"
      ]
    },
    {
      "cell_type": "code",
      "metadata": {
        "id": "ECe0aKaYn9m9"
      },
      "source": [
        "# guess w only\n",
        "# y = x * w\n",
        "# real: y = 2x\n",
        "# our model for the forward pass\n",
        "def forward(x):\n",
        "    return x * w\n",
        "\n",
        "# Loss manually\n",
        "def loss(x, y):\n",
        "    y_pred = forward(x)\n",
        "    return (y_pred - y) ** 2\n",
        "\n",
        "# backword manually\n",
        "# compute gradient\n",
        "# y_pred = x * w\n",
        "# loss = (y_pred - y) ** 2\n",
        "# d_loss/d_w = 2 * x * (x*w - y)\n",
        "def gradient(x, y):  # d_loss/d_w\n",
        "    return 2 * x * (x*w - y)"
      ],
      "execution_count": null,
      "outputs": []
    },
    {
      "cell_type": "code",
      "metadata": {
        "id": "-TfcJBEIn9mr"
      },
      "source": [
        "x_data = [1.0, 2.0, 3.0]\n",
        "y_data = [2.0, 4.0, 6.0]"
      ],
      "execution_count": null,
      "outputs": []
    },
    {
      "cell_type": "markdown",
      "metadata": {
        "id": "sgmuoNkRn9nG"
      },
      "source": [
        "## loss graph (w and mse)"
      ]
    },
    {
      "cell_type": "code",
      "metadata": {
        "id": "dW5C7snGn9mg"
      },
      "source": [
        "import numpy as np"
      ],
      "execution_count": null,
      "outputs": []
    },
    {
      "cell_type": "code",
      "metadata": {
        "id": "W_3mNSFsn9nI",
        "colab": {
          "base_uri": "https://localhost:8080/",
          "height": 1000
        },
        "outputId": "601d7106-f217-483f-a00a-1276a8e9a602"
      },
      "source": [
        "# List of weights / Mean square Error (Mse) for each input\n",
        "w_list = []\n",
        "mse_list = []\n",
        "\n",
        "# w is random guess to predit y_pred\n",
        "for w in np.arange(0.0, 4.1, 0.2):\n",
        "    # Print the weights and initialize the lost\n",
        "    print(\"w =\", w)\n",
        "    l_sum = 0\n",
        "\n",
        "    for x_val, y_val in zip(x_data, y_data):\n",
        "        # For each input and output, calculate y_hat\n",
        "        # Compute the total loss and add to the total error\n",
        "        y_pred_val = forward(x_val)\n",
        "        l = loss(x_val, y_val)  # which is square error\n",
        "        l_sum += l\n",
        "        print(\"\\t\", x_val, y_val, y_pred_val, l)\n",
        "    # Now compute the Mean squared error (mse) of each\n",
        "    # Aggregate the weight/mse from this run\n",
        "    print(\"MSE =\", l_sum / 3)\n",
        "    print()\n",
        "    w_list.append(w)\n",
        "    mse_list.append(l_sum / 3)"
      ],
      "execution_count": null,
      "outputs": [
        {
          "output_type": "stream",
          "text": [
            "w = 0.0\n",
            "\t 1.0 2.0 0.0 4.0\n",
            "\t 2.0 4.0 0.0 16.0\n",
            "\t 3.0 6.0 0.0 36.0\n",
            "MSE = 18.666666666666668\n",
            "\n",
            "w = 0.2\n",
            "\t 1.0 2.0 0.2 3.24\n",
            "\t 2.0 4.0 0.4 12.96\n",
            "\t 3.0 6.0 0.6000000000000001 29.160000000000004\n",
            "MSE = 15.120000000000003\n",
            "\n",
            "w = 0.4\n",
            "\t 1.0 2.0 0.4 2.5600000000000005\n",
            "\t 2.0 4.0 0.8 10.240000000000002\n",
            "\t 3.0 6.0 1.2000000000000002 23.04\n",
            "MSE = 11.946666666666667\n",
            "\n",
            "w = 0.6000000000000001\n",
            "\t 1.0 2.0 0.6000000000000001 1.9599999999999997\n",
            "\t 2.0 4.0 1.2000000000000002 7.839999999999999\n",
            "\t 3.0 6.0 1.8000000000000003 17.639999999999993\n",
            "MSE = 9.146666666666663\n",
            "\n",
            "w = 0.8\n",
            "\t 1.0 2.0 0.8 1.44\n",
            "\t 2.0 4.0 1.6 5.76\n",
            "\t 3.0 6.0 2.4000000000000004 12.959999999999997\n",
            "MSE = 6.719999999999999\n",
            "\n",
            "w = 1.0\n",
            "\t 1.0 2.0 1.0 1.0\n",
            "\t 2.0 4.0 2.0 4.0\n",
            "\t 3.0 6.0 3.0 9.0\n",
            "MSE = 4.666666666666667\n",
            "\n",
            "w = 1.2000000000000002\n",
            "\t 1.0 2.0 1.2000000000000002 0.6399999999999997\n",
            "\t 2.0 4.0 2.4000000000000004 2.5599999999999987\n",
            "\t 3.0 6.0 3.6000000000000005 5.759999999999997\n",
            "MSE = 2.986666666666665\n",
            "\n",
            "w = 1.4000000000000001\n",
            "\t 1.0 2.0 1.4000000000000001 0.3599999999999998\n",
            "\t 2.0 4.0 2.8000000000000003 1.4399999999999993\n",
            "\t 3.0 6.0 4.2 3.2399999999999993\n",
            "MSE = 1.6799999999999995\n",
            "\n",
            "w = 1.6\n",
            "\t 1.0 2.0 1.6 0.15999999999999992\n",
            "\t 2.0 4.0 3.2 0.6399999999999997\n",
            "\t 3.0 6.0 4.800000000000001 1.4399999999999984\n",
            "MSE = 0.746666666666666\n",
            "\n",
            "w = 1.8\n",
            "\t 1.0 2.0 1.8 0.03999999999999998\n",
            "\t 2.0 4.0 3.6 0.15999999999999992\n",
            "\t 3.0 6.0 5.4 0.3599999999999996\n",
            "MSE = 0.1866666666666665\n",
            "\n",
            "w = 2.0\n",
            "\t 1.0 2.0 2.0 0.0\n",
            "\t 2.0 4.0 4.0 0.0\n",
            "\t 3.0 6.0 6.0 0.0\n",
            "MSE = 0.0\n",
            "\n",
            "w = 2.2\n",
            "\t 1.0 2.0 2.2 0.04000000000000007\n",
            "\t 2.0 4.0 4.4 0.16000000000000028\n",
            "\t 3.0 6.0 6.6000000000000005 0.36000000000000065\n",
            "MSE = 0.18666666666666698\n",
            "\n",
            "w = 2.4000000000000004\n",
            "\t 1.0 2.0 2.4000000000000004 0.16000000000000028\n",
            "\t 2.0 4.0 4.800000000000001 0.6400000000000011\n",
            "\t 3.0 6.0 7.200000000000001 1.4400000000000026\n",
            "MSE = 0.7466666666666679\n",
            "\n",
            "w = 2.6\n",
            "\t 1.0 2.0 2.6 0.3600000000000001\n",
            "\t 2.0 4.0 5.2 1.4400000000000004\n",
            "\t 3.0 6.0 7.800000000000001 3.2400000000000024\n",
            "MSE = 1.6800000000000008\n",
            "\n",
            "w = 2.8000000000000003\n",
            "\t 1.0 2.0 2.8000000000000003 0.6400000000000005\n",
            "\t 2.0 4.0 5.6000000000000005 2.560000000000002\n",
            "\t 3.0 6.0 8.4 5.760000000000002\n",
            "MSE = 2.986666666666668\n",
            "\n",
            "w = 3.0\n",
            "\t 1.0 2.0 3.0 1.0\n",
            "\t 2.0 4.0 6.0 4.0\n",
            "\t 3.0 6.0 9.0 9.0\n",
            "MSE = 4.666666666666667\n",
            "\n",
            "w = 3.2\n",
            "\t 1.0 2.0 3.2 1.4400000000000004\n",
            "\t 2.0 4.0 6.4 5.760000000000002\n",
            "\t 3.0 6.0 9.600000000000001 12.96000000000001\n",
            "MSE = 6.720000000000003\n",
            "\n",
            "w = 3.4000000000000004\n",
            "\t 1.0 2.0 3.4000000000000004 1.960000000000001\n",
            "\t 2.0 4.0 6.800000000000001 7.840000000000004\n",
            "\t 3.0 6.0 10.200000000000001 17.640000000000008\n",
            "MSE = 9.14666666666667\n",
            "\n",
            "w = 3.6\n",
            "\t 1.0 2.0 3.6 2.5600000000000005\n",
            "\t 2.0 4.0 7.2 10.240000000000002\n",
            "\t 3.0 6.0 10.8 23.040000000000006\n",
            "MSE = 11.94666666666667\n",
            "\n",
            "w = 3.8000000000000003\n",
            "\t 1.0 2.0 3.8000000000000003 3.240000000000001\n",
            "\t 2.0 4.0 7.6000000000000005 12.960000000000004\n",
            "\t 3.0 6.0 11.4 29.160000000000004\n",
            "MSE = 15.120000000000005\n",
            "\n",
            "w = 4.0\n",
            "\t 1.0 2.0 4.0 4.0\n",
            "\t 2.0 4.0 8.0 16.0\n",
            "\t 3.0 6.0 12.0 36.0\n",
            "MSE = 18.666666666666668\n",
            "\n"
          ],
          "name": "stdout"
        }
      ]
    },
    {
      "cell_type": "code",
      "metadata": {
        "id": "E0eG5RR3n9nR",
        "colab": {
          "base_uri": "https://localhost:8080/",
          "height": 279
        },
        "outputId": "ab9afdb4-cd2d-40d2-90f1-9dbf0978c285"
      },
      "source": [
        "import matplotlib.pyplot as plt\n",
        "\n",
        "# Plot loss graph\n",
        "plt.plot(w_list, mse_list)\n",
        "plt.ylabel('Loss')\n",
        "plt.xlabel('w')\n",
        "plt.show()"
      ],
      "execution_count": null,
      "outputs": [
        {
          "output_type": "display_data",
          "data": {
            "image/png": "[encoded data removed]",
            "text/plain": [
              "<Figure size 432x288 with 1 Axes>"
            ]
          },
          "metadata": {
            "tags": [],
            "needs_background": "light"
          }
        }
      ]
    },
    {
      "cell_type": "markdown",
      "metadata": {
        "id": "mElOENGw3x1x"
      },
      "source": [
        "## Manual Gradient"
      ]
    },
    {
      "cell_type": "code",
      "metadata": {
        "id": "WsBTaI4q3x2H",
        "colab": {
          "base_uri": "https://localhost:8080/",
          "height": 1000
        },
        "outputId": "34f5056a-6282-458c-feab-e7f1ac005581"
      },
      "source": [
        "# random guss w\n",
        "w = 0.5\n",
        "\n",
        "# y = 2*x + 1, so x = 4 should return 8\n",
        "# Before training\n",
        "print(\"(before) forward(4): \", forward(4))\n",
        "print()\n",
        "\n",
        "\n",
        "# Training loop\n",
        "for epoch in range(15):\n",
        "    for x_val, y_val in zip(x_data, y_data):\n",
        "        # Compute derivative w.r.t to the learned weights\n",
        "        # Update the weights\n",
        "        # Compute the loss and print progress\n",
        "        grad = gradient(x_val, y_val)\n",
        "        w = w - 0.01 * grad  # update w\n",
        "        print(\"\\tgrad: \", x_val, y_val, round(grad, 2))\n",
        "        l = loss(x_val, y_val)\n",
        "    print(\"epoch:\", epoch, \"w=\", round(w, 2), \"loss=\", round(l, 2), '\\n')\n",
        "\n",
        "# After training\n",
        "print(\"after: \", forward(4))"
      ],
      "execution_count": null,
      "outputs": [
        {
          "output_type": "stream",
          "text": [
            "(before) forward(4):  2.0\n",
            "\n",
            "\tgrad:  1.0 2.0 -3.0\n",
            "\tgrad:  2.0 4.0 -11.76\n",
            "\tgrad:  3.0 6.0 -24.34\n",
            "epoch: 0 w= 0.89 loss= 11.07 \n",
            "\n",
            "\tgrad:  1.0 2.0 -2.22\n",
            "\tgrad:  2.0 4.0 -8.69\n",
            "\tgrad:  3.0 6.0 -18.0\n",
            "epoch: 1 w= 1.18 loss= 6.05 \n",
            "\n",
            "\tgrad:  1.0 2.0 -1.64\n",
            "\tgrad:  2.0 4.0 -6.43\n",
            "\tgrad:  3.0 6.0 -13.31\n",
            "epoch: 2 w= 1.39 loss= 3.31 \n",
            "\n",
            "\tgrad:  1.0 2.0 -1.21\n",
            "\tgrad:  2.0 4.0 -4.75\n",
            "\tgrad:  3.0 6.0 -9.84\n",
            "epoch: 3 w= 1.55 loss= 1.81 \n",
            "\n",
            "\tgrad:  1.0 2.0 -0.9\n",
            "\tgrad:  2.0 4.0 -3.51\n",
            "\tgrad:  3.0 6.0 -7.27\n",
            "epoch: 4 w= 1.67 loss= 0.99 \n",
            "\n",
            "\tgrad:  1.0 2.0 -0.66\n",
            "\tgrad:  2.0 4.0 -2.6\n",
            "\tgrad:  3.0 6.0 -5.38\n",
            "epoch: 5 w= 1.76 loss= 0.54 \n",
            "\n",
            "\tgrad:  1.0 2.0 -0.49\n",
            "\tgrad:  2.0 4.0 -1.92\n",
            "\tgrad:  3.0 6.0 -3.98\n",
            "epoch: 6 w= 1.82 loss= 0.3 \n",
            "\n",
            "\tgrad:  1.0 2.0 -0.36\n",
            "\tgrad:  2.0 4.0 -1.42\n",
            "\tgrad:  3.0 6.0 -2.94\n",
            "epoch: 7 w= 1.87 loss= 0.16 \n",
            "\n",
            "\tgrad:  1.0 2.0 -0.27\n",
            "\tgrad:  2.0 4.0 -1.05\n",
            "\tgrad:  3.0 6.0 -2.17\n",
            "epoch: 8 w= 1.9 loss= 0.09 \n",
            "\n",
            "\tgrad:  1.0 2.0 -0.2\n",
            "\tgrad:  2.0 4.0 -0.78\n",
            "\tgrad:  3.0 6.0 -1.61\n",
            "epoch: 9 w= 1.93 loss= 0.05 \n",
            "\n",
            "\tgrad:  1.0 2.0 -0.15\n",
            "\tgrad:  2.0 4.0 -0.57\n",
            "\tgrad:  3.0 6.0 -1.19\n",
            "epoch: 10 w= 1.95 loss= 0.03 \n",
            "\n",
            "\tgrad:  1.0 2.0 -0.11\n",
            "\tgrad:  2.0 4.0 -0.42\n",
            "\tgrad:  3.0 6.0 -0.88\n",
            "epoch: 11 w= 1.96 loss= 0.01 \n",
            "\n",
            "\tgrad:  1.0 2.0 -0.08\n",
            "\tgrad:  2.0 4.0 -0.31\n",
            "\tgrad:  3.0 6.0 -0.65\n",
            "epoch: 12 w= 1.97 loss= 0.01 \n",
            "\n",
            "\tgrad:  1.0 2.0 -0.06\n",
            "\tgrad:  2.0 4.0 -0.23\n",
            "\tgrad:  3.0 6.0 -0.48\n",
            "epoch: 13 w= 1.98 loss= 0.0 \n",
            "\n",
            "\tgrad:  1.0 2.0 -0.04\n",
            "\tgrad:  2.0 4.0 -0.17\n",
            "\tgrad:  3.0 6.0 -0.35\n",
            "epoch: 14 w= 1.98 loss= 0.0 \n",
            "\n",
            "after:  7.935350141047644\n"
          ],
          "name": "stdout"
        }
      ]
    },
    {
      "cell_type": "markdown",
      "metadata": {
        "id": "JKbVM9Oqn9nY"
      },
      "source": [
        "# Auto Gradient Version\n",
        "\n",
        "We use different loss function!\n",
        "\n",
        "可能有一些requires_grad的原因在里面"
      ]
    },
    {
      "cell_type": "code",
      "metadata": {
        "id": "FpkAKz2m_gd5"
      },
      "source": [
        "import torch\n",
        "\n",
        "def loss_new(y_pred, y_val):\n",
        "    return (y_pred - y_val)**2\n",
        "\n",
        "# # 'Tensor' object is not callable\n",
        "# def loss_new(x, y_val):\n",
        "#     return (x * w - y_val)**2"
      ],
      "execution_count": null,
      "outputs": []
    },
    {
      "cell_type": "code",
      "metadata": {
        "id": "3cbbPZKnn9nb",
        "colab": {
          "base_uri": "https://localhost:8080/",
          "height": 1000
        },
        "outputId": "3079b49e-2c47-4179-d908-8c4eced9e2ca"
      },
      "source": [
        "# random guss w\n",
        "w = torch.tensor([1.0], requires_grad=True)\n",
        "\n",
        "# Before training\n",
        "print(\"(before) forward(4): \", forward(4))\n",
        "print()\n",
        "\n",
        "# Training loop\n",
        "for epoch in range(15):\n",
        "    for x_val, y_val in zip(x_data, y_data):\n",
        "        y_pred = forward(x_val)  # 1) Forward pass\n",
        "        # l = loss(x_val, y_val)  # => 'Tensor' object is not callable\n",
        "        l = loss_new(y_pred, y_val)  # 2) Compute loss\n",
        "        l.backward()  # 3) Back propagation to update weights\n",
        "        print(\"\\tgrad: \", x_val, y_val, w.grad.item())\n",
        "        w.data = w.data - 0.01 * w.grad.item()  # update w\n",
        "        # Manually zero the gradients after updating weights\n",
        "        w.grad.data.zero_()\n",
        "    print(\"epoch:\", epoch, \"w=\", w.data, \"loss=\", l.item(), '\\n')\n",
        "\n",
        "# After training\n",
        "print(\"after: \", forward(4))"
      ],
      "execution_count": null,
      "outputs": [
        {
          "output_type": "stream",
          "text": [
            "(before) forward(4):  tensor([4.], grad_fn=<MulBackward0>)\n",
            "\n",
            "\tgrad:  tensor([1.]) tensor([2.]) -2.0\n",
            "\tgrad:  tensor([2.]) tensor([4.]) -7.840000152587891\n",
            "\tgrad:  tensor([3.]) tensor([6.]) -16.228801727294922\n",
            "epoch: 0 w= tensor([1.2607]) loss= 7.315943717956543 \n",
            "\n",
            "\tgrad:  tensor([1.]) tensor([2.]) -1.478623867034912\n",
            "\tgrad:  tensor([2.]) tensor([4.]) -5.796205520629883\n",
            "\tgrad:  tensor([3.]) tensor([6.]) -11.998146057128906\n",
            "epoch: 1 w= tensor([1.4534]) loss= 3.9987640380859375 \n",
            "\n",
            "\tgrad:  tensor([1.]) tensor([2.]) -1.0931644439697266\n",
            "\tgrad:  tensor([2.]) tensor([4.]) -4.285204887390137\n",
            "\tgrad:  tensor([3.]) tensor([6.]) -8.870372772216797\n",
            "epoch: 2 w= tensor([1.5959]) loss= 2.1856532096862793 \n",
            "\n",
            "\tgrad:  tensor([1.]) tensor([2.]) -0.8081896305084229\n",
            "\tgrad:  tensor([2.]) tensor([4.]) -3.1681032180786133\n",
            "\tgrad:  tensor([3.]) tensor([6.]) -6.557973861694336\n",
            "epoch: 3 w= tensor([1.7012]) loss= 1.1946394443511963 \n",
            "\n",
            "\tgrad:  tensor([1.]) tensor([2.]) -0.5975041389465332\n",
            "\tgrad:  tensor([2.]) tensor([4.]) -2.3422164916992188\n",
            "\tgrad:  tensor([3.]) tensor([6.]) -4.848389625549316\n",
            "epoch: 4 w= tensor([1.7791]) loss= 0.6529689431190491 \n",
            "\n",
            "\tgrad:  tensor([1.]) tensor([2.]) -0.4417421817779541\n",
            "\tgrad:  tensor([2.]) tensor([4.]) -1.7316293716430664\n",
            "\tgrad:  tensor([3.]) tensor([6.]) -3.58447265625\n",
            "epoch: 5 w= tensor([1.8367]) loss= 0.35690122842788696 \n",
            "\n",
            "\tgrad:  tensor([1.]) tensor([2.]) -0.3265852928161621\n",
            "\tgrad:  tensor([2.]) tensor([4.]) -1.2802143096923828\n",
            "\tgrad:  tensor([3.]) tensor([6.]) -2.650045394897461\n",
            "epoch: 6 w= tensor([1.8793]) loss= 0.195076122879982 \n",
            "\n",
            "\tgrad:  tensor([1.]) tensor([2.]) -0.24144840240478516\n",
            "\tgrad:  tensor([2.]) tensor([4.]) -0.9464778900146484\n",
            "\tgrad:  tensor([3.]) tensor([6.]) -1.9592113494873047\n",
            "epoch: 7 w= tensor([1.9107]) loss= 0.10662525147199631 \n",
            "\n",
            "\tgrad:  tensor([1.]) tensor([2.]) -0.17850565910339355\n",
            "\tgrad:  tensor([2.]) tensor([4.]) -0.699742317199707\n",
            "\tgrad:  tensor([3.]) tensor([6.]) -1.4484672546386719\n",
            "epoch: 8 w= tensor([1.9340]) loss= 0.0582793727517128 \n",
            "\n",
            "\tgrad:  tensor([1.]) tensor([2.]) -0.1319713592529297\n",
            "\tgrad:  tensor([2.]) tensor([4.]) -0.5173273086547852\n",
            "\tgrad:  tensor([3.]) tensor([6.]) -1.070866584777832\n",
            "epoch: 9 w= tensor([1.9512]) loss= 0.03185431286692619 \n",
            "\n",
            "\tgrad:  tensor([1.]) tensor([2.]) -0.09756779670715332\n",
            "\tgrad:  tensor([2.]) tensor([4.]) -0.3824653625488281\n",
            "\tgrad:  tensor([3.]) tensor([6.]) -0.7917022705078125\n",
            "epoch: 10 w= tensor([1.9639]) loss= 0.017410902306437492 \n",
            "\n",
            "\tgrad:  tensor([1.]) tensor([2.]) -0.07213282585144043\n",
            "\tgrad:  tensor([2.]) tensor([4.]) -0.2827606201171875\n",
            "\tgrad:  tensor([3.]) tensor([6.]) -0.5853137969970703\n",
            "epoch: 11 w= tensor([1.9733]) loss= 0.009516451507806778 \n",
            "\n",
            "\tgrad:  tensor([1.]) tensor([2.]) -0.053328514099121094\n",
            "\tgrad:  tensor([2.]) tensor([4.]) -0.2090473175048828\n",
            "\tgrad:  tensor([3.]) tensor([6.]) -0.43272972106933594\n",
            "epoch: 12 w= tensor([1.9803]) loss= 0.005201528314501047 \n",
            "\n",
            "\tgrad:  tensor([1.]) tensor([2.]) -0.039426326751708984\n",
            "\tgrad:  tensor([2.]) tensor([4.]) -0.15455150604248047\n",
            "\tgrad:  tensor([3.]) tensor([6.]) -0.3199195861816406\n",
            "epoch: 13 w= tensor([1.9854]) loss= 0.0028430151287466288 \n",
            "\n",
            "\tgrad:  tensor([1.]) tensor([2.]) -0.029148340225219727\n",
            "\tgrad:  tensor([2.]) tensor([4.]) -0.11426162719726562\n",
            "\tgrad:  tensor([3.]) tensor([6.]) -0.23652076721191406\n",
            "epoch: 14 w= tensor([1.9892]) loss= 0.0015539465239271522 \n",
            "\n",
            "after:  tensor([7.9569], grad_fn=<MulBackward0>)\n"
          ],
          "name": "stdout"
        }
      ]
    },
    {
      "cell_type": "markdown",
      "metadata": {
        "id": "Ojiz86Nan9nm"
      },
      "source": [
        "# Linear Model (Torch)\n",
        "\n",
        "https://pytorch.org/docs/stable/optim.html#torch.optim.Optimizer.zero_grad\n",
        "\n",
        "https://pytorch.org/tutorials/beginner/nn_tutorial.html?highlight=zero_grad\n",
        "\n",
        "https://pytorch.org/docs/stable/optim.html#torch.optim.Optimizer.step\n",
        "\n",
        "https://stackoverflow.com/questions/48001598/why-do-we-need-to-call-zero-grad-in-pytorch\n",
        "\n",
        "\n",
        "We need to set the gradients to zero before starting to do backpropragation because PyTorch accumulates the gradients on subsequent backward passes. This is convenient while training RNNs\n"
      ]
    },
    {
      "cell_type": "code",
      "metadata": {
        "id": "P8Rp5JXGn9no"
      },
      "source": [
        "from torch import nn\n",
        "import torch\n",
        "from torch import tensor"
      ],
      "execution_count": null,
      "outputs": []
    },
    {
      "cell_type": "code",
      "metadata": {
        "id": "9zofyQhjn9nv"
      },
      "source": [
        "x_data = tensor([[1.0], [2.0], [3.0]])\n",
        "y_data = tensor([[2.0], [4.0], [6.0]])"
      ],
      "execution_count": null,
      "outputs": []
    },
    {
      "cell_type": "code",
      "metadata": {
        "id": "nn4AB1vhn9nz"
      },
      "source": [
        "class Model(nn.Module):\n",
        "    def __init__(self):\n",
        "        \"\"\"\n",
        "        In the constructor we instantiate two nn.Linear module\n",
        "        \"\"\"\n",
        "        super(Model, self).__init__()\n",
        "        self.linear = torch.nn.Linear(1, 1)  # One in and one out\n",
        "\n",
        "    def forward(self, x):\n",
        "        \"\"\"\n",
        "        In the forward function we accept a Variable of input data and we must return\n",
        "        a Variable of output data. We can use Modules defined in the constructor as\n",
        "        well as arbitrary operators on Variables.\n",
        "        \"\"\"\n",
        "        y_pred = self.linear(x)\n",
        "        return y_pred"
      ],
      "execution_count": null,
      "outputs": []
    },
    {
      "cell_type": "code",
      "metadata": {
        "id": "1c-Jkm2Sn9n4",
        "colab": {
          "base_uri": "https://localhost:8080/",
          "height": 199
        },
        "outputId": "5b3d67c6-88a8-4ae6-a80b-de04bd6a5c93"
      },
      "source": [
        "# our model\n",
        "model = Model()\n",
        "\n",
        "# Construct our loss function and an Optimizer. The call to model.parameters()\n",
        "# in the SGD constructor will contain the learnable parameters of the two\n",
        "# nn.Linear modules which are members of the model.\n",
        "criterion = torch.nn.MSELoss(reduction='sum')\n",
        "optimizer = torch.optim.SGD(model.parameters(), lr=0.01)  # learn rate\n",
        "\n",
        "# Training loop (forward + backward)\n",
        "for epoch in range(500):\n",
        "    # 1) Forward pass: Compute predicted y by passing x to the model\n",
        "    y_pred = model(x_data)\n",
        "    # print('Data: {}, Predict: {}'.format(y_data, y_pred))\n",
        "    \n",
        "    # 2) Compute and print loss\n",
        "    loss = criterion(y_pred, y_data)\n",
        "    if epoch % 50 == 0:\n",
        "        print(f'Epoch: {epoch} | Loss: {loss.item()} ')\n",
        "\n",
        "    # Zero gradients, perform a [[backward]] pass, and update the weights.\n",
        "    optimizer.zero_grad()\n",
        "    loss.backward()\n",
        "    optimizer.step()"
      ],
      "execution_count": null,
      "outputs": [
        {
          "output_type": "stream",
          "text": [
            "Epoch: 0 | Loss: 111.7068862915039 \n",
            "Epoch: 50 | Loss: 0.18679173290729523 \n",
            "Epoch: 100 | Loss: 0.09057698398828506 \n",
            "Epoch: 150 | Loss: 0.043921686708927155 \n",
            "Epoch: 200 | Loss: 0.021298028528690338 \n",
            "Epoch: 250 | Loss: 0.010327618569135666 \n",
            "Epoch: 300 | Loss: 0.005007944535464048 \n",
            "Epoch: 350 | Loss: 0.0024283973034471273 \n",
            "Epoch: 400 | Loss: 0.001177570316940546 \n",
            "Epoch: 450 | Loss: 0.0005710131372325122 \n"
          ],
          "name": "stdout"
        }
      ]
    },
    {
      "cell_type": "code",
      "metadata": {
        "id": "zvSZHJXIn9n_",
        "colab": {
          "base_uri": "https://localhost:8080/",
          "height": 35
        },
        "outputId": "e3e054ae-35f9-4ed5-cef1-862894eb54af"
      },
      "source": [
        "# After training\n",
        "hour_var = tensor([[4.0]])  # create var\n",
        "y_pred = model(hour_var)  # forward\n",
        "print(\"Prediction (after training)\",  4, y_pred.data[0][0].item())"
      ],
      "execution_count": null,
      "outputs": [
        {
          "output_type": "stream",
          "text": [
            "Prediction (after training) 4 7.980732440948486\n"
          ],
          "name": "stdout"
        }
      ]
    }
  ]
}